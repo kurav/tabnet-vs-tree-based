{
 "cells": [
  {
   "cell_type": "code",
   "execution_count": 18,
   "id": "initial_id",
   "metadata": {
    "collapsed": true,
    "ExecuteTime": {
     "end_time": "2024-05-05T20:36:11.219025500Z",
     "start_time": "2024-05-05T20:36:11.209979Z"
    }
   },
   "outputs": [],
   "source": [
    "import pandas as pd"
   ]
  },
  {
   "cell_type": "code",
   "execution_count": 19,
   "outputs": [
    {
     "name": "stdout",
     "output_type": "stream",
     "text": [
      "     Model                         Parameters  Accuracy  Precision    Recall  \\\n",
      "0  XGBoost  n_estimators=50, lr=0.01, depth=3  0.727466   0.529207  0.727466   \n",
      "1  XGBoost  n_estimators=50, lr=0.01, depth=5  0.752307   0.778130  0.752307   \n",
      "2  XGBoost  n_estimators=50, lr=0.01, depth=7  0.753016   0.779310  0.753016   \n",
      "3  XGBoost  n_estimators=50, lr=0.05, depth=3  0.782115   0.767693  0.782115   \n",
      "4  XGBoost  n_estimators=50, lr=0.05, depth=5  0.792761   0.782358  0.792761   \n",
      "\n",
      "   F1-Score   AUC-ROC  \n",
      "0  0.612698  0.500000  \n",
      "1  0.673886  0.551273  \n",
      "2  0.675280  0.552575  \n",
      "3  0.767506  0.675174  \n",
      "4  0.784360  0.705291  \n"
     ]
    }
   ],
   "source": [
    "df = pd.read_csv('results.csv')\n",
    "print(df.head())"
   ],
   "metadata": {
    "collapsed": false,
    "ExecuteTime": {
     "end_time": "2024-05-05T20:36:11.240872700Z",
     "start_time": "2024-05-05T20:36:11.220028Z"
    }
   },
   "id": "e28cc0df42e8e05d"
  },
  {
   "cell_type": "code",
   "execution_count": 20,
   "outputs": [
    {
     "name": "stdout",
     "output_type": "stream",
     "text": [
      "     Model  Accuracy  Precision    Recall  F1-Score   AUC-ROC n_estimators  \\\n",
      "0  XGBoost  0.727466   0.529207  0.727466  0.612698  0.500000           50   \n",
      "1  XGBoost  0.752307   0.778130  0.752307  0.673886  0.551273           50   \n",
      "2  XGBoost  0.753016   0.779310  0.753016  0.675280  0.552575           50   \n",
      "3  XGBoost  0.782115   0.767693  0.782115  0.767506  0.675174           50   \n",
      "4  XGBoost  0.792761   0.782358  0.792761  0.784360  0.705291           50   \n",
      "\n",
      "     lr  depth n_d_n_a  epochs  max_depth  min_samples_split  \n",
      "0  0.01      3     N/A     N/A        N/A                N/A  \n",
      "1  0.01      5     N/A     N/A        N/A                N/A  \n",
      "2  0.01      7     N/A     N/A        N/A                N/A  \n",
      "3  0.05      3     N/A     N/A        N/A                N/A  \n",
      "4  0.05      5     N/A     N/A        N/A                N/A  \n"
     ]
    }
   ],
   "source": [
    "def split_parameters(params_str):\n",
    "    params = dict(item.split('=') for item in params_str.split(','))\n",
    "    return pd.Series(params)\n",
    "\n",
    "# Apply transformation\n",
    "parameters_df = df['Parameters'].apply(split_parameters)\n",
    "df = pd.concat([df.drop('Parameters', axis=1), parameters_df], axis=1)\n",
    "\n",
    "# Fill missing values with 'N/A' for clarity in the Streamlit app\n",
    "df.fillna('N/A', inplace=True)\n",
    "\n",
    "# Check the transformation\n",
    "print(df.head())\n",
    "\n",
    "# Save the transformed CSV\n"
   ],
   "metadata": {
    "collapsed": false,
    "ExecuteTime": {
     "end_time": "2024-05-05T20:36:11.292042500Z",
     "start_time": "2024-05-05T20:36:11.234317400Z"
    }
   },
   "id": "a10654d5fd08a2d8"
  },
  {
   "cell_type": "code",
   "execution_count": 21,
   "outputs": [],
   "source": [
    "df.to_csv('transformed_results.csv', index=False)"
   ],
   "metadata": {
    "collapsed": false,
    "ExecuteTime": {
     "end_time": "2024-05-05T20:36:11.300107300Z",
     "start_time": "2024-05-05T20:36:11.265855500Z"
    }
   },
   "id": "74e404a842b61c0b"
  },
  {
   "cell_type": "code",
   "execution_count": 23,
   "outputs": [
    {
     "name": "stdout",
     "output_type": "stream",
     "text": [
      "Cleaned data saved to: transformed_results_cleaned.csv\n"
     ]
    }
   ],
   "source": [
    "def clean_data(file_path):\n",
    "    # Load the data\n",
    "    data = pd.read_csv(file_path)\n",
    "    \n",
    "    # Strip extra spaces from column names\n",
    "    data.columns = data.columns.str.strip()\n",
    "    \n",
    "    # Convert 'max_depth' to numeric, handling 'None' as NaN\n",
    "    data['max_depth'] = pd.to_numeric(data['max_depth'], errors='coerce')\n",
    "    \n",
    "    # Optionally, you might want to fill NaNs for specific columns if required,\n",
    "    # or you can handle them dynamically in the Streamlit app as needed.\n",
    "    # For example, if you want to set NaNs to a default value in a column:\n",
    "    # data['some_column'] = data['some_column'].fillna(default_value)\n",
    "\n",
    "    # Save the cleaned data to a new CSV file\n",
    "    cleaned_file_path = file_path.replace('.csv', '_cleaned.csv')\n",
    "    data.to_csv(cleaned_file_path, index=False)\n",
    "    \n",
    "    return cleaned_file_path\n",
    "\n",
    "# Use the function\n",
    "file_path = 'transformed_results.csv'  # Change this to your actual file path\n",
    "cleaned_data_path = clean_data(file_path)\n",
    "print(f\"Cleaned data saved to: {cleaned_data_path}\")"
   ],
   "metadata": {
    "collapsed": false,
    "ExecuteTime": {
     "end_time": "2024-05-05T20:37:26.722925200Z",
     "start_time": "2024-05-05T20:37:26.707803500Z"
    }
   },
   "id": "c8ea9177dd120562"
  },
  {
   "cell_type": "code",
   "execution_count": null,
   "outputs": [],
   "source": [],
   "metadata": {
    "collapsed": false,
    "ExecuteTime": {
     "end_time": "2024-05-05T20:36:11.737753200Z",
     "start_time": "2024-05-05T20:36:11.733702100Z"
    }
   },
   "id": "7fb07d40d4cab382"
  }
 ],
 "metadata": {
  "kernelspec": {
   "display_name": "Python 3",
   "language": "python",
   "name": "python3"
  },
  "language_info": {
   "codemirror_mode": {
    "name": "ipython",
    "version": 2
   },
   "file_extension": ".py",
   "mimetype": "text/x-python",
   "name": "python",
   "nbconvert_exporter": "python",
   "pygments_lexer": "ipython2",
   "version": "2.7.6"
  }
 },
 "nbformat": 4,
 "nbformat_minor": 5
}
