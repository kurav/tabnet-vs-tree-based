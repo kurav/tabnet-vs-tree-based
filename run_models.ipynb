{
 "cells": [
  {
   "cell_type": "code",
   "execution_count": 63,
   "id": "initial_id",
   "metadata": {
    "collapsed": true,
    "ExecuteTime": {
     "end_time": "2024-05-05T19:41:18.036218200Z",
     "start_time": "2024-05-05T19:41:18.004344300Z"
    }
   },
   "outputs": [],
   "source": [
    "import deepforest\n",
    "import pandas as pd\n",
    "from sklearn.preprocessing import StandardScaler\n",
    "from sklearn.feature_selection import RFECV\n",
    "from sklearn.linear_model import LogisticRegression\n",
    "from sklearn.model_selection import StratifiedKFold\n",
    "import matplotlib.pyplot as plt\n",
    "from xgboost import XGBClassifier\n",
    "from sklearn.model_selection import train_test_split\n",
    "from sklearn.metrics import accuracy_score, precision_score, recall_score, f1_score, roc_auc_score\n",
    "from pytorch_tabnet.tab_model import TabNetClassifier\n",
    "import torch\n",
    "import numpy as np\n",
    "from deepforest import CascadeForestClassifier\n",
    "from importlib import reload\n",
    "from sklearn.ensemble import RandomForestClassifier\n"
   ]
  },
  {
   "cell_type": "code",
   "execution_count": 61,
   "outputs": [
    {
     "data": {
      "text/plain": "<module 'deepforest' from 'C:\\\\Users\\\\varsh\\\\AppData\\\\Local\\\\Programs\\\\Python\\\\Python39\\\\lib\\\\site-packages\\\\deepforest\\\\__init__.py'>"
     },
     "execution_count": 61,
     "metadata": {},
     "output_type": "execute_result"
    }
   ],
   "source": [
    "#reload(deepforest)"
   ],
   "metadata": {
    "collapsed": false,
    "ExecuteTime": {
     "end_time": "2024-05-05T19:18:49.981895200Z",
     "start_time": "2024-05-05T19:18:49.966051Z"
    }
   },
   "id": "56bd5e7bc4699097"
  },
  {
   "cell_type": "code",
   "execution_count": 2,
   "outputs": [],
   "source": [
    "def store_results(model_name, y_test, y_pred, params):\n",
    "    # Create a DataFrame for the results of this model run\n",
    "    results = pd.DataFrame({\n",
    "        'Model': [model_name],\n",
    "        'Parameters': [params],  # Ensure params are formatted correctly for DataFrame storage\n",
    "        'Accuracy': [accuracy_score(y_test, y_pred)],\n",
    "        'Precision': [precision_score(y_test, y_pred, average='weighted')],\n",
    "        'Recall': [recall_score(y_test, y_pred, average='weighted')],\n",
    "        'F1-Score': [f1_score(y_test, y_pred, average='weighted')],\n",
    "        'AUC-ROC': [roc_auc_score(y_test, y_pred)]\n",
    "    })\n",
    "    return results"
   ],
   "metadata": {
    "collapsed": false,
    "ExecuteTime": {
     "end_time": "2024-05-05T17:26:43.349232600Z",
     "start_time": "2024-05-05T17:26:43.335577400Z"
    }
   },
   "id": "21cc13c819954917"
  },
  {
   "cell_type": "code",
   "execution_count": 3,
   "outputs": [
    {
     "name": "stdout",
     "output_type": "stream",
     "text": [
      "<class 'pandas.core.frame.DataFrame'>\n",
      "RangeIndex: 7043 entries, 0 to 7042\n",
      "Data columns (total 21 columns):\n",
      " #   Column            Non-Null Count  Dtype  \n",
      "---  ------            --------------  -----  \n",
      " 0   customerID        7043 non-null   object \n",
      " 1   gender            7043 non-null   object \n",
      " 2   SeniorCitizen     7043 non-null   int64  \n",
      " 3   Partner           7043 non-null   object \n",
      " 4   Dependents        7043 non-null   object \n",
      " 5   tenure            7043 non-null   int64  \n",
      " 6   PhoneService      7043 non-null   object \n",
      " 7   MultipleLines     7043 non-null   object \n",
      " 8   InternetService   7043 non-null   object \n",
      " 9   OnlineSecurity    7043 non-null   object \n",
      " 10  OnlineBackup      7043 non-null   object \n",
      " 11  DeviceProtection  7043 non-null   object \n",
      " 12  TechSupport       7043 non-null   object \n",
      " 13  StreamingTV       7043 non-null   object \n",
      " 14  StreamingMovies   7043 non-null   object \n",
      " 15  Contract          7043 non-null   object \n",
      " 16  PaperlessBilling  7043 non-null   object \n",
      " 17  PaymentMethod     7043 non-null   object \n",
      " 18  MonthlyCharges    7043 non-null   float64\n",
      " 19  TotalCharges      7043 non-null   object \n",
      " 20  Churn             7043 non-null   object \n",
      "dtypes: float64(1), int64(2), object(18)\n",
      "memory usage: 1.1+ MB\n"
     ]
    },
    {
     "data": {
      "text/plain": "(None,\n    customerID  gender  SeniorCitizen Partner Dependents  tenure PhoneService  \\\n 0  7590-VHVEG  Female              0     Yes         No       1           No   \n 1  5575-GNVDE    Male              0      No         No      34          Yes   \n 2  3668-QPYBK    Male              0      No         No       2          Yes   \n 3  7795-CFOCW    Male              0      No         No      45           No   \n 4  9237-HQITU  Female              0      No         No       2          Yes   \n \n       MultipleLines InternetService OnlineSecurity  ... DeviceProtection  \\\n 0  No phone service             DSL             No  ...               No   \n 1                No             DSL            Yes  ...              Yes   \n 2                No             DSL            Yes  ...               No   \n 3  No phone service             DSL            Yes  ...              Yes   \n 4                No     Fiber optic             No  ...               No   \n \n   TechSupport StreamingTV StreamingMovies        Contract PaperlessBilling  \\\n 0          No          No              No  Month-to-month              Yes   \n 1          No          No              No        One year               No   \n 2          No          No              No  Month-to-month              Yes   \n 3         Yes          No              No        One year               No   \n 4          No          No              No  Month-to-month              Yes   \n \n                PaymentMethod MonthlyCharges  TotalCharges Churn  \n 0           Electronic check          29.85         29.85    No  \n 1               Mailed check          56.95        1889.5    No  \n 2               Mailed check          53.85        108.15   Yes  \n 3  Bank transfer (automatic)          42.30       1840.75    No  \n 4           Electronic check          70.70        151.65   Yes  \n \n [5 rows x 21 columns])"
     },
     "execution_count": 3,
     "metadata": {},
     "output_type": "execute_result"
    }
   ],
   "source": [
    "telco_data_path = 'Datasets/telco_customer_churn/WA_Fn-UseC_-Telco-Customer-Churn.csv'\n",
    "telco_data = pd.read_csv(telco_data_path)\n",
    "telco_data_info = telco_data.info()\n",
    "telco_data_head = telco_data.head()\n",
    "\n",
    "telco_data_info, telco_data_head"
   ],
   "metadata": {
    "collapsed": false,
    "ExecuteTime": {
     "end_time": "2024-05-05T17:26:43.415049200Z",
     "start_time": "2024-05-05T17:26:43.349232600Z"
    }
   },
   "id": "70b675c6fac2b43b"
  },
  {
   "cell_type": "code",
   "execution_count": 4,
   "outputs": [
    {
     "data": {
      "text/plain": "(11,\n       customerID  gender  SeniorCitizen Partner Dependents  tenure  \\\n 488   4472-LVYGI  Female              0     Yes        Yes       0   \n 753   3115-CZMZD    Male              0      No        Yes       0   \n 936   5709-LVOEQ  Female              0     Yes        Yes       0   \n 1082  4367-NUYAO    Male              0     Yes        Yes       0   \n 1340  1371-DWPAZ  Female              0     Yes        Yes       0   \n \n      PhoneService     MultipleLines InternetService       OnlineSecurity  ...  \\\n 488            No  No phone service             DSL                  Yes  ...   \n 753           Yes                No              No  No internet service  ...   \n 936           Yes                No             DSL                  Yes  ...   \n 1082          Yes               Yes              No  No internet service  ...   \n 1340           No  No phone service             DSL                  Yes  ...   \n \n          DeviceProtection          TechSupport          StreamingTV  \\\n 488                   Yes                  Yes                  Yes   \n 753   No internet service  No internet service  No internet service   \n 936                   Yes                   No                  Yes   \n 1082  No internet service  No internet service  No internet service   \n 1340                  Yes                  Yes                  Yes   \n \n           StreamingMovies  Contract PaperlessBilling  \\\n 488                    No  Two year              Yes   \n 753   No internet service  Two year               No   \n 936                   Yes  Two year               No   \n 1082  No internet service  Two year               No   \n 1340                   No  Two year               No   \n \n                   PaymentMethod MonthlyCharges  TotalCharges  Churn  \n 488   Bank transfer (automatic)          52.55           NaN     No  \n 753                Mailed check          20.25           NaN     No  \n 936                Mailed check          80.85           NaN     No  \n 1082               Mailed check          25.75           NaN     No  \n 1340    Credit card (automatic)          56.05           NaN     No  \n \n [5 rows x 21 columns])"
     },
     "execution_count": 4,
     "metadata": {},
     "output_type": "execute_result"
    }
   ],
   "source": [
    "# Attempt to convert 'TotalCharges' to numeric type, forcing errors to be NaN so we can identify them\n",
    "telco_data['TotalCharges'] = pd.to_numeric(telco_data['TotalCharges'], errors='coerce')\n",
    "missing_total_charges = telco_data['TotalCharges'].isna().sum()\n",
    "\n",
    "invalid_total_charges_rows = telco_data[telco_data['TotalCharges'].isna()]\n",
    "missing_total_charges, invalid_total_charges_rows.head()"
   ],
   "metadata": {
    "collapsed": false,
    "ExecuteTime": {
     "end_time": "2024-05-05T17:26:43.435593900Z",
     "start_time": "2024-05-05T17:26:43.413041200Z"
    }
   },
   "id": "6f0a50956187f45d"
  },
  {
   "cell_type": "code",
   "execution_count": 5,
   "outputs": [
    {
     "name": "stderr",
     "output_type": "stream",
     "text": [
      "C:\\Users\\varsh\\AppData\\Local\\Temp\\ipykernel_18716\\1266531264.py:2: FutureWarning: A value is trying to be set on a copy of a DataFrame or Series through chained assignment using an inplace method.\n",
      "The behavior will change in pandas 3.0. This inplace method will never work because the intermediate object on which we are setting values always behaves as a copy.\n",
      "\n",
      "For example, when doing 'df[col].method(value, inplace=True)', try using 'df.method({col: value}, inplace=True)' or df[col] = df[col].method(value) instead, to perform the operation inplace on the original object.\n",
      "\n",
      "\n",
      "  telco_data['TotalCharges'].fillna(0, inplace=True)\n"
     ]
    },
    {
     "data": {
      "text/plain": "customerID          0\ngender              0\nSeniorCitizen       0\nPartner             0\nDependents          0\ntenure              0\nPhoneService        0\nMultipleLines       0\nInternetService     0\nOnlineSecurity      0\nOnlineBackup        0\nDeviceProtection    0\nTechSupport         0\nStreamingTV         0\nStreamingMovies     0\nContract            0\nPaperlessBilling    0\nPaymentMethod       0\nMonthlyCharges      0\nTotalCharges        0\nChurn               0\ndtype: int64"
     },
     "execution_count": 5,
     "metadata": {},
     "output_type": "execute_result"
    }
   ],
   "source": [
    "# Re-attempt to fill missing TotalCharges with 0 and verify if any missing values still exist in the dataset\n",
    "telco_data['TotalCharges'].fillna(0, inplace=True)\n",
    "missing_values_after_filling = telco_data.isna().sum()\n",
    "\n",
    "# Attempt again to encode categorical variables\n",
    "categorical_columns = telco_data.select_dtypes(include=['object']).columns.drop('customerID')  # Exclude customerID\n",
    "telco_data_encoded = pd.get_dummies(telco_data, columns=categorical_columns, drop_first=True)  # One-hot encoding\n",
    "\n",
    "# Show a snippet of the newly encoded dataframe and check for any remaining missing values\n",
    "telco_data_encoded.head()\n",
    "missing_values_after_filling"
   ],
   "metadata": {
    "collapsed": false,
    "ExecuteTime": {
     "end_time": "2024-05-05T17:26:43.541519Z",
     "start_time": "2024-05-05T17:26:43.425986400Z"
    }
   },
   "id": "6935d9bf09699a61"
  },
  {
   "cell_type": "code",
   "execution_count": 6,
   "outputs": [
    {
     "data": {
      "text/plain": "  tenure_group monthly_charges_group\n0         0-12                 21-40\n1        25-36                 41-60\n2         0-12                 41-60\n3        37-48                 41-60\n4         0-12                 61-80",
      "text/html": "<div>\n<style scoped>\n    .dataframe tbody tr th:only-of-type {\n        vertical-align: middle;\n    }\n\n    .dataframe tbody tr th {\n        vertical-align: top;\n    }\n\n    .dataframe thead th {\n        text-align: right;\n    }\n</style>\n<table border=\"1\" class=\"dataframe\">\n  <thead>\n    <tr style=\"text-align: right;\">\n      <th></th>\n      <th>tenure_group</th>\n      <th>monthly_charges_group</th>\n    </tr>\n  </thead>\n  <tbody>\n    <tr>\n      <th>0</th>\n      <td>0-12</td>\n      <td>21-40</td>\n    </tr>\n    <tr>\n      <th>1</th>\n      <td>25-36</td>\n      <td>41-60</td>\n    </tr>\n    <tr>\n      <th>2</th>\n      <td>0-12</td>\n      <td>41-60</td>\n    </tr>\n    <tr>\n      <th>3</th>\n      <td>37-48</td>\n      <td>41-60</td>\n    </tr>\n    <tr>\n      <th>4</th>\n      <td>0-12</td>\n      <td>61-80</td>\n    </tr>\n  </tbody>\n</table>\n</div>"
     },
     "execution_count": 6,
     "metadata": {},
     "output_type": "execute_result"
    }
   ],
   "source": [
    "telco_data['tenure_group'] = pd.cut(telco_data['tenure'], bins=[0, 12, 24, 36, 48, 60, 72], labels=['0-12', '13-24', '25-36', '37-48', '49-60', '61-72'])\n",
    "telco_data['monthly_charges_group'] = pd.cut(telco_data['MonthlyCharges'], bins=[0, 20, 40, 60, 80, 100, 120], labels=['0-20', '21-40', '41-60', '61-80', '81-100', '101-120'])\n",
    "\n",
    "telco_data[['tenure_group', 'monthly_charges_group']].head()"
   ],
   "metadata": {
    "collapsed": false,
    "ExecuteTime": {
     "end_time": "2024-05-05T17:26:43.543023900Z",
     "start_time": "2024-05-05T17:26:43.456647600Z"
    }
   },
   "id": "a9753acb676073e1"
  },
  {
   "cell_type": "code",
   "execution_count": 7,
   "outputs": [
    {
     "data": {
      "text/plain": "     tenure  MonthlyCharges\n0 -1.277445       -1.160323\n1  0.066327       -0.259629\n2 -1.236724       -0.362660\n3  0.514251       -0.746535\n4 -1.236724        0.197365",
      "text/html": "<div>\n<style scoped>\n    .dataframe tbody tr th:only-of-type {\n        vertical-align: middle;\n    }\n\n    .dataframe tbody tr th {\n        vertical-align: top;\n    }\n\n    .dataframe thead th {\n        text-align: right;\n    }\n</style>\n<table border=\"1\" class=\"dataframe\">\n  <thead>\n    <tr style=\"text-align: right;\">\n      <th></th>\n      <th>tenure</th>\n      <th>MonthlyCharges</th>\n    </tr>\n  </thead>\n  <tbody>\n    <tr>\n      <th>0</th>\n      <td>-1.277445</td>\n      <td>-1.160323</td>\n    </tr>\n    <tr>\n      <th>1</th>\n      <td>0.066327</td>\n      <td>-0.259629</td>\n    </tr>\n    <tr>\n      <th>2</th>\n      <td>-1.236724</td>\n      <td>-0.362660</td>\n    </tr>\n    <tr>\n      <th>3</th>\n      <td>0.514251</td>\n      <td>-0.746535</td>\n    </tr>\n    <tr>\n      <th>4</th>\n      <td>-1.236724</td>\n      <td>0.197365</td>\n    </tr>\n  </tbody>\n</table>\n</div>"
     },
     "execution_count": 7,
     "metadata": {},
     "output_type": "execute_result"
    }
   ],
   "source": [
    "# Scaling tenure and monthly charges columns\n",
    "scaler = StandardScaler()\n",
    "telco_data[['tenure', 'MonthlyCharges']] = scaler.fit_transform(telco_data[['tenure', 'MonthlyCharges']])\n",
    "\n",
    "telco_data[['tenure', 'MonthlyCharges']].head()"
   ],
   "metadata": {
    "collapsed": false,
    "ExecuteTime": {
     "end_time": "2024-05-05T17:26:43.555597100Z",
     "start_time": "2024-05-05T17:26:43.474692400Z"
    }
   },
   "id": "e65e635621ab2a31"
  },
  {
   "cell_type": "code",
   "execution_count": 8,
   "outputs": [
    {
     "name": "stdout",
     "output_type": "stream",
     "text": [
      "   customerID  SeniorCitizen    tenure  MonthlyCharges  TotalCharges Churn  \\\n",
      "0  7590-VHVEG              0 -1.277445       -1.160323         29.85    No   \n",
      "1  5575-GNVDE              0  0.066327       -0.259629       1889.50    No   \n",
      "2  3668-QPYBK              0 -1.236724       -0.362660        108.15   Yes   \n",
      "3  7795-CFOCW              0  0.514251       -0.746535       1840.75    No   \n",
      "4  9237-HQITU              0 -1.236724        0.197365        151.65   Yes   \n",
      "\n",
      "  tenure_group monthly_charges_group  gender_Male  Partner_Yes  ...  \\\n",
      "0         0-12                 21-40        False         True  ...   \n",
      "1        25-36                 41-60         True        False  ...   \n",
      "2         0-12                 41-60         True        False  ...   \n",
      "3        37-48                 41-60         True        False  ...   \n",
      "4         0-12                 61-80        False        False  ...   \n",
      "\n",
      "   StreamingTV_No internet service  StreamingTV_Yes  \\\n",
      "0                            False            False   \n",
      "1                            False            False   \n",
      "2                            False            False   \n",
      "3                            False            False   \n",
      "4                            False            False   \n",
      "\n",
      "   StreamingMovies_No internet service  StreamingMovies_Yes  \\\n",
      "0                                False                False   \n",
      "1                                False                False   \n",
      "2                                False                False   \n",
      "3                                False                False   \n",
      "4                                False                False   \n",
      "\n",
      "   Contract_One year  Contract_Two year  PaperlessBilling_Yes  \\\n",
      "0              False              False                  True   \n",
      "1               True              False                 False   \n",
      "2              False              False                  True   \n",
      "3               True              False                 False   \n",
      "4              False              False                  True   \n",
      "\n",
      "   PaymentMethod_Credit card (automatic)  PaymentMethod_Electronic check  \\\n",
      "0                                  False                            True   \n",
      "1                                  False                           False   \n",
      "2                                  False                           False   \n",
      "3                                  False                           False   \n",
      "4                                  False                            True   \n",
      "\n",
      "   PaymentMethod_Mailed check  \n",
      "0                       False  \n",
      "1                        True  \n",
      "2                        True  \n",
      "3                       False  \n",
      "4                       False  \n",
      "\n",
      "[5 rows x 34 columns]\n"
     ]
    }
   ],
   "source": [
    "telco_data_encoded = pd.get_dummies(telco_data, columns=['gender', 'Partner', 'Dependents', 'PhoneService', \n",
    "                                                         'MultipleLines', 'InternetService', 'OnlineSecurity', \n",
    "                                                         'OnlineBackup', 'DeviceProtection', 'TechSupport', \n",
    "                                                         'StreamingTV', 'StreamingMovies', 'Contract', \n",
    "                                                         'PaperlessBilling', 'PaymentMethod'],\n",
    "                                    drop_first=True)  # drop_first to avoid dummy variable trap\n",
    "\n",
    "# Check the new DataFrame structure\n",
    "print(telco_data_encoded.head())"
   ],
   "metadata": {
    "collapsed": false,
    "ExecuteTime": {
     "end_time": "2024-05-05T17:26:43.557451900Z",
     "start_time": "2024-05-05T17:26:43.490220Z"
    }
   },
   "id": "d00451bcfa974907"
  },
  {
   "cell_type": "code",
   "execution_count": 9,
   "outputs": [
    {
     "data": {
      "text/plain": "   tenure_group  monthly_charges_group\n0             0                      1\n1             2                      2\n2             0                      2\n3             3                      2\n4             0                      3",
      "text/html": "<div>\n<style scoped>\n    .dataframe tbody tr th:only-of-type {\n        vertical-align: middle;\n    }\n\n    .dataframe tbody tr th {\n        vertical-align: top;\n    }\n\n    .dataframe thead th {\n        text-align: right;\n    }\n</style>\n<table border=\"1\" class=\"dataframe\">\n  <thead>\n    <tr style=\"text-align: right;\">\n      <th></th>\n      <th>tenure_group</th>\n      <th>monthly_charges_group</th>\n    </tr>\n  </thead>\n  <tbody>\n    <tr>\n      <th>0</th>\n      <td>0</td>\n      <td>1</td>\n    </tr>\n    <tr>\n      <th>1</th>\n      <td>2</td>\n      <td>2</td>\n    </tr>\n    <tr>\n      <th>2</th>\n      <td>0</td>\n      <td>2</td>\n    </tr>\n    <tr>\n      <th>3</th>\n      <td>3</td>\n      <td>2</td>\n    </tr>\n    <tr>\n      <th>4</th>\n      <td>0</td>\n      <td>3</td>\n    </tr>\n  </tbody>\n</table>\n</div>"
     },
     "execution_count": 9,
     "metadata": {},
     "output_type": "execute_result"
    }
   ],
   "source": [
    "telco_data_encoded['tenure_group'] = telco_data_encoded['tenure_group'].cat.codes\n",
    "telco_data_encoded['monthly_charges_group'] = telco_data_encoded['monthly_charges_group'].cat.codes\n",
    "telco_data_encoded[['tenure_group', 'monthly_charges_group']].head()"
   ],
   "metadata": {
    "collapsed": false,
    "ExecuteTime": {
     "end_time": "2024-05-05T17:26:43.559599500Z",
     "start_time": "2024-05-05T17:26:43.521624700Z"
    }
   },
   "id": "941b90ee3776e71e"
  },
  {
   "cell_type": "code",
   "execution_count": 10,
   "outputs": [
    {
     "data": {
      "text/plain": "   SeniorCitizen    tenure  MonthlyCharges  TotalCharges Churn  tenure_group  \\\n0              0 -1.277445       -1.160323         29.85    No             0   \n1              0  0.066327       -0.259629       1889.50    No             2   \n2              0 -1.236724       -0.362660        108.15   Yes             0   \n3              0  0.514251       -0.746535       1840.75    No             3   \n4              0 -1.236724        0.197365        151.65   Yes             0   \n\n   monthly_charges_group  gender_Male  Partner_Yes  Dependents_Yes  ...  \\\n0                      1        False         True           False  ...   \n1                      2         True        False           False  ...   \n2                      2         True        False           False  ...   \n3                      2         True        False           False  ...   \n4                      3        False        False           False  ...   \n\n   StreamingTV_No internet service  StreamingTV_Yes  \\\n0                            False            False   \n1                            False            False   \n2                            False            False   \n3                            False            False   \n4                            False            False   \n\n   StreamingMovies_No internet service  StreamingMovies_Yes  \\\n0                                False                False   \n1                                False                False   \n2                                False                False   \n3                                False                False   \n4                                False                False   \n\n   Contract_One year  Contract_Two year  PaperlessBilling_Yes  \\\n0              False              False                  True   \n1               True              False                 False   \n2              False              False                  True   \n3               True              False                 False   \n4              False              False                  True   \n\n   PaymentMethod_Credit card (automatic)  PaymentMethod_Electronic check  \\\n0                                  False                            True   \n1                                  False                           False   \n2                                  False                           False   \n3                                  False                           False   \n4                                  False                            True   \n\n   PaymentMethod_Mailed check  \n0                       False  \n1                        True  \n2                        True  \n3                       False  \n4                       False  \n\n[5 rows x 33 columns]",
      "text/html": "<div>\n<style scoped>\n    .dataframe tbody tr th:only-of-type {\n        vertical-align: middle;\n    }\n\n    .dataframe tbody tr th {\n        vertical-align: top;\n    }\n\n    .dataframe thead th {\n        text-align: right;\n    }\n</style>\n<table border=\"1\" class=\"dataframe\">\n  <thead>\n    <tr style=\"text-align: right;\">\n      <th></th>\n      <th>SeniorCitizen</th>\n      <th>tenure</th>\n      <th>MonthlyCharges</th>\n      <th>TotalCharges</th>\n      <th>Churn</th>\n      <th>tenure_group</th>\n      <th>monthly_charges_group</th>\n      <th>gender_Male</th>\n      <th>Partner_Yes</th>\n      <th>Dependents_Yes</th>\n      <th>...</th>\n      <th>StreamingTV_No internet service</th>\n      <th>StreamingTV_Yes</th>\n      <th>StreamingMovies_No internet service</th>\n      <th>StreamingMovies_Yes</th>\n      <th>Contract_One year</th>\n      <th>Contract_Two year</th>\n      <th>PaperlessBilling_Yes</th>\n      <th>PaymentMethod_Credit card (automatic)</th>\n      <th>PaymentMethod_Electronic check</th>\n      <th>PaymentMethod_Mailed check</th>\n    </tr>\n  </thead>\n  <tbody>\n    <tr>\n      <th>0</th>\n      <td>0</td>\n      <td>-1.277445</td>\n      <td>-1.160323</td>\n      <td>29.85</td>\n      <td>No</td>\n      <td>0</td>\n      <td>1</td>\n      <td>False</td>\n      <td>True</td>\n      <td>False</td>\n      <td>...</td>\n      <td>False</td>\n      <td>False</td>\n      <td>False</td>\n      <td>False</td>\n      <td>False</td>\n      <td>False</td>\n      <td>True</td>\n      <td>False</td>\n      <td>True</td>\n      <td>False</td>\n    </tr>\n    <tr>\n      <th>1</th>\n      <td>0</td>\n      <td>0.066327</td>\n      <td>-0.259629</td>\n      <td>1889.50</td>\n      <td>No</td>\n      <td>2</td>\n      <td>2</td>\n      <td>True</td>\n      <td>False</td>\n      <td>False</td>\n      <td>...</td>\n      <td>False</td>\n      <td>False</td>\n      <td>False</td>\n      <td>False</td>\n      <td>True</td>\n      <td>False</td>\n      <td>False</td>\n      <td>False</td>\n      <td>False</td>\n      <td>True</td>\n    </tr>\n    <tr>\n      <th>2</th>\n      <td>0</td>\n      <td>-1.236724</td>\n      <td>-0.362660</td>\n      <td>108.15</td>\n      <td>Yes</td>\n      <td>0</td>\n      <td>2</td>\n      <td>True</td>\n      <td>False</td>\n      <td>False</td>\n      <td>...</td>\n      <td>False</td>\n      <td>False</td>\n      <td>False</td>\n      <td>False</td>\n      <td>False</td>\n      <td>False</td>\n      <td>True</td>\n      <td>False</td>\n      <td>False</td>\n      <td>True</td>\n    </tr>\n    <tr>\n      <th>3</th>\n      <td>0</td>\n      <td>0.514251</td>\n      <td>-0.746535</td>\n      <td>1840.75</td>\n      <td>No</td>\n      <td>3</td>\n      <td>2</td>\n      <td>True</td>\n      <td>False</td>\n      <td>False</td>\n      <td>...</td>\n      <td>False</td>\n      <td>False</td>\n      <td>False</td>\n      <td>False</td>\n      <td>True</td>\n      <td>False</td>\n      <td>False</td>\n      <td>False</td>\n      <td>False</td>\n      <td>False</td>\n    </tr>\n    <tr>\n      <th>4</th>\n      <td>0</td>\n      <td>-1.236724</td>\n      <td>0.197365</td>\n      <td>151.65</td>\n      <td>Yes</td>\n      <td>0</td>\n      <td>3</td>\n      <td>False</td>\n      <td>False</td>\n      <td>False</td>\n      <td>...</td>\n      <td>False</td>\n      <td>False</td>\n      <td>False</td>\n      <td>False</td>\n      <td>False</td>\n      <td>False</td>\n      <td>True</td>\n      <td>False</td>\n      <td>True</td>\n      <td>False</td>\n    </tr>\n  </tbody>\n</table>\n<p>5 rows × 33 columns</p>\n</div>"
     },
     "execution_count": 10,
     "metadata": {},
     "output_type": "execute_result"
    }
   ],
   "source": [
    "telco_data_encoded = telco_data_encoded.drop(columns=['customerID'])\n",
    "telco_data_encoded.head()"
   ],
   "metadata": {
    "collapsed": false,
    "ExecuteTime": {
     "end_time": "2024-05-05T17:26:43.661480200Z",
     "start_time": "2024-05-05T17:26:43.538242900Z"
    }
   },
   "id": "93d9e282350aac80"
  },
  {
   "cell_type": "code",
   "execution_count": 11,
   "outputs": [
    {
     "name": "stdout",
     "output_type": "stream",
     "text": [
      "Optimal number of features : 27\n"
     ]
    }
   ],
   "source": [
    "X = telco_data_encoded.drop(columns=['Churn'])\n",
    "y = telco_data_encoded['Churn'].map({'Yes': 1, 'No': 0}) \n",
    "\n",
    "#RFE with scikit-learn's RFECV\n",
    "model = LogisticRegression(max_iter=5000)\n",
    "rfecv = RFECV(estimator=model, step=1, cv=StratifiedKFold(5), scoring='accuracy')\n",
    "rfecv.fit(X, y)\n",
    "print(\"Optimal number of features : %d\" % rfecv.n_features_)"
   ],
   "metadata": {
    "collapsed": false,
    "ExecuteTime": {
     "end_time": "2024-05-05T17:26:55.924890100Z",
     "start_time": "2024-05-05T17:26:43.567769700Z"
    }
   },
   "id": "a648d65119fe1156"
  },
  {
   "cell_type": "code",
   "execution_count": 12,
   "outputs": [
    {
     "name": "stdout",
     "output_type": "stream",
     "text": [
      "Selected features: ['SeniorCitizen', 'tenure', 'MonthlyCharges', 'tenure_group', 'monthly_charges_group', 'Dependents_Yes', 'PhoneService_Yes', 'MultipleLines_No phone service', 'MultipleLines_Yes', 'InternetService_Fiber optic', 'InternetService_No', 'OnlineSecurity_No internet service', 'OnlineSecurity_Yes', 'OnlineBackup_No internet service', 'OnlineBackup_Yes', 'DeviceProtection_No internet service', 'TechSupport_No internet service', 'TechSupport_Yes', 'StreamingTV_No internet service', 'StreamingTV_Yes', 'StreamingMovies_No internet service', 'StreamingMovies_Yes', 'Contract_One year', 'Contract_Two year', 'PaperlessBilling_Yes', 'PaymentMethod_Credit card (automatic)', 'PaymentMethod_Electronic check']\n"
     ]
    }
   ],
   "source": [
    "selected_features = X.columns[rfecv.support_]\n",
    "print(\"Selected features:\", selected_features.tolist())"
   ],
   "metadata": {
    "collapsed": false,
    "ExecuteTime": {
     "end_time": "2024-05-05T17:26:55.980194900Z",
     "start_time": "2024-05-05T17:26:55.926071500Z"
    }
   },
   "id": "1ae7a0efe00a560e"
  },
  {
   "cell_type": "code",
   "execution_count": 13,
   "outputs": [
    {
     "data": {
      "text/plain": "<Figure size 640x480 with 1 Axes>",
      "image/png": "[encoded data removed]"
     },
     "metadata": {},
     "output_type": "display_data"
    }
   ],
   "source": [
    "# Number of features VS. cross-validation scores\n",
    "plt.figure()\n",
    "plt.xlabel(\"Number of features selected\")\n",
    "plt.ylabel(\"Cross validation score (nb of correct classifications)\")\n",
    "plt.plot(range(1, len(rfecv.cv_results_['mean_test_score']) + 1), rfecv.cv_results_['mean_test_score'])\n",
    "plt.show()"
   ],
   "metadata": {
    "collapsed": false,
    "ExecuteTime": {
     "end_time": "2024-05-05T17:26:56.130608300Z",
     "start_time": "2024-05-05T17:26:55.939678400Z"
    }
   },
   "id": "f95ddde528a1e95e"
  },
  {
   "cell_type": "code",
   "execution_count": 14,
   "outputs": [],
   "source": [
    "X_selected = X[selected_features]\n",
    "X_train, X_test, y_train, y_test = train_test_split(X_selected, y, test_size=0.2, random_state=100)"
   ],
   "metadata": {
    "collapsed": false,
    "ExecuteTime": {
     "end_time": "2024-05-05T17:26:56.147285500Z",
     "start_time": "2024-05-05T17:26:56.127534500Z"
    }
   },
   "id": "924cc622693ff410"
  },
  {
   "cell_type": "code",
   "execution_count": 15,
   "outputs": [
    {
     "data": {
      "text/plain": "XGBClassifier(base_score=None, booster=None, callbacks=None,\n              colsample_bylevel=None, colsample_bynode=None,\n              colsample_bytree=None, device=None, early_stopping_rounds=None,\n              enable_categorical=False, eval_metric=None, feature_types=None,\n              gamma=None, grow_policy=None, importance_type=None,\n              interaction_constraints=None, learning_rate=0.05, max_bin=None,\n              max_cat_threshold=None, max_cat_to_onehot=None,\n              max_delta_step=None, max_depth=None, max_leaves=None,\n              min_child_weight=None, missing=nan, monotone_constraints=None,\n              multi_strategy=None, n_estimators=100, n_jobs=None,\n              num_parallel_tree=None, random_state=None, ...)",
      "text/html": "<style>#sk-container-id-1 {\n  /* Definition of color scheme common for light and dark mode */\n  --sklearn-color-text: black;\n  --sklearn-color-line: gray;\n  /* Definition of color scheme for unfitted estimators */\n  --sklearn-color-unfitted-level-0: #fff5e6;\n  --sklearn-color-unfitted-level-1: #f6e4d2;\n  --sklearn-color-unfitted-level-2: #ffe0b3;\n  --sklearn-color-unfitted-level-3: chocolate;\n  /* Definition of color scheme for fitted estimators */\n  --sklearn-color-fitted-level-0: #f0f8ff;\n  --sklearn-color-fitted-level-1: #d4ebff;\n  --sklearn-color-fitted-level-2: #b3dbfd;\n  --sklearn-color-fitted-level-3: cornflowerblue;\n\n  /* Specific color for light theme */\n  --sklearn-color-text-on-default-background: var(--sg-text-color, var(--theme-code-foreground, var(--jp-content-font-color1, black)));\n  --sklearn-color-background: var(--sg-background-color, var(--theme-background, var(--jp-layout-color0, white)));\n  --sklearn-color-border-box: var(--sg-text-color, var(--theme-code-foreground, var(--jp-content-font-color1, black)));\n  --sklearn-color-icon: #696969;\n\n  @media (prefers-color-scheme: dark) {\n    /* Redefinition of color scheme for dark theme */\n    --sklearn-color-text-on-default-background: var(--sg-text-color, var(--theme-code-foreground, var(--jp-content-font-color1, white)));\n    --sklearn-color-background: var(--sg-background-color, var(--theme-background, var(--jp-layout-color0, #111)));\n    --sklearn-color-border-box: var(--sg-text-color, var(--theme-code-foreground, var(--jp-content-font-color1, white)));\n    --sklearn-color-icon: #878787;\n  }\n}\n\n#sk-container-id-1 {\n  color: var(--sklearn-color-text);\n}\n\n#sk-container-id-1 pre {\n  padding: 0;\n}\n\n#sk-container-id-1 input.sk-hidden--visually {\n  border: 0;\n  clip: rect(1px 1px 1px 1px);\n  clip: rect(1px, 1px, 1px, 1px);\n  height: 1px;\n  margin: -1px;\n  overflow: hidden;\n  padding: 0;\n  position: absolute;\n  width: 1px;\n}\n\n#sk-container-id-1 div.sk-dashed-wrapped {\n  border: 1px dashed var(--sklearn-color-line);\n  margin: 0 0.4em 0.5em 0.4em;\n  box-sizing: border-box;\n  padding-bottom: 0.4em;\n  background-color: var(--sklearn-color-background);\n}\n\n#sk-container-id-1 div.sk-container {\n  /* jupyter's `normalize.less` sets `[hidden] { display: none; }`\n     but bootstrap.min.css set `[hidden] { display: none !important; }`\n     so we also need the `!important` here to be able to override the\n     default hidden behavior on the sphinx rendered scikit-learn.org.\n     See: https://github.com/scikit-learn/scikit-learn/issues/21755 */\n  display: inline-block !important;\n  position: relative;\n}\n\n#sk-container-id-1 div.sk-text-repr-fallback {\n  display: none;\n}\n\ndiv.sk-parallel-item,\ndiv.sk-serial,\ndiv.sk-item {\n  /* draw centered vertical line to link estimators */\n  background-image: linear-gradient(var(--sklearn-color-text-on-default-background), var(--sklearn-color-text-on-default-background));\n  background-size: 2px 100%;\n  background-repeat: no-repeat;\n  background-position: center center;\n}\n\n/* Parallel-specific style estimator block */\n\n#sk-container-id-1 div.sk-parallel-item::after {\n  content: \"\";\n  width: 100%;\n  border-bottom: 2px solid var(--sklearn-color-text-on-default-background);\n  flex-grow: 1;\n}\n\n#sk-container-id-1 div.sk-parallel {\n  display: flex;\n  align-items: stretch;\n  justify-content: center;\n  background-color: var(--sklearn-color-background);\n  position: relative;\n}\n\n#sk-container-id-1 div.sk-parallel-item {\n  display: flex;\n  flex-direction: column;\n}\n\n#sk-container-id-1 div.sk-parallel-item:first-child::after {\n  align-self: flex-end;\n  width: 50%;\n}\n\n#sk-container-id-1 div.sk-parallel-item:last-child::after {\n  align-self: flex-start;\n  width: 50%;\n}\n\n#sk-container-id-1 div.sk-parallel-item:only-child::after {\n  width: 0;\n}\n\n/* Serial-specific style estimator block */\n\n#sk-container-id-1 div.sk-serial {\n  display: flex;\n  flex-direction: column;\n  align-items: center;\n  background-color: var(--sklearn-color-background);\n  padding-right: 1em;\n  padding-left: 1em;\n}\n\n\n/* Toggleable style: style used for estimator/Pipeline/ColumnTransformer box that is\nclickable and can be expanded/collapsed.\n- Pipeline and ColumnTransformer use this feature and define the default style\n- Estimators will overwrite some part of the style using the `sk-estimator` class\n*/\n\n/* Pipeline and ColumnTransformer style (default) */\n\n#sk-container-id-1 div.sk-toggleable {\n  /* Default theme specific background. It is overwritten whether we have a\n  specific estimator or a Pipeline/ColumnTransformer */\n  background-color: var(--sklearn-color-background);\n}\n\n/* Toggleable label */\n#sk-container-id-1 label.sk-toggleable__label {\n  cursor: pointer;\n  display: block;\n  width: 100%;\n  margin-bottom: 0;\n  padding: 0.5em;\n  box-sizing: border-box;\n  text-align: center;\n}\n\n#sk-container-id-1 label.sk-toggleable__label-arrow:before {\n  /* Arrow on the left of the label */\n  content: \"▸\";\n  float: left;\n  margin-right: 0.25em;\n  color: var(--sklearn-color-icon);\n}\n\n#sk-container-id-1 label.sk-toggleable__label-arrow:hover:before {\n  color: var(--sklearn-color-text);\n}\n\n/* Toggleable content - dropdown */\n\n#sk-container-id-1 div.sk-toggleable__content {\n  max-height: 0;\n  max-width: 0;\n  overflow: hidden;\n  text-align: left;\n  /* unfitted */\n  background-color: var(--sklearn-color-unfitted-level-0);\n}\n\n#sk-container-id-1 div.sk-toggleable__content.fitted {\n  /* fitted */\n  background-color: var(--sklearn-color-fitted-level-0);\n}\n\n#sk-container-id-1 div.sk-toggleable__content pre {\n  margin: 0.2em;\n  border-radius: 0.25em;\n  color: var(--sklearn-color-text);\n  /* unfitted */\n  background-color: var(--sklearn-color-unfitted-level-0);\n}\n\n#sk-container-id-1 div.sk-toggleable__content.fitted pre {\n  /* unfitted */\n  background-color: var(--sklearn-color-fitted-level-0);\n}\n\n#sk-container-id-1 input.sk-toggleable__control:checked~div.sk-toggleable__content {\n  /* Expand drop-down */\n  max-height: 200px;\n  max-width: 100%;\n  overflow: auto;\n}\n\n#sk-container-id-1 input.sk-toggleable__control:checked~label.sk-toggleable__label-arrow:before {\n  content: \"▾\";\n}\n\n/* Pipeline/ColumnTransformer-specific style */\n\n#sk-container-id-1 div.sk-label input.sk-toggleable__control:checked~label.sk-toggleable__label {\n  color: var(--sklearn-color-text);\n  background-color: var(--sklearn-color-unfitted-level-2);\n}\n\n#sk-container-id-1 div.sk-label.fitted input.sk-toggleable__control:checked~label.sk-toggleable__label {\n  background-color: var(--sklearn-color-fitted-level-2);\n}\n\n/* Estimator-specific style */\n\n/* Colorize estimator box */\n#sk-container-id-1 div.sk-estimator input.sk-toggleable__control:checked~label.sk-toggleable__label {\n  /* unfitted */\n  background-color: var(--sklearn-color-unfitted-level-2);\n}\n\n#sk-container-id-1 div.sk-estimator.fitted input.sk-toggleable__control:checked~label.sk-toggleable__label {\n  /* fitted */\n  background-color: var(--sklearn-color-fitted-level-2);\n}\n\n#sk-container-id-1 div.sk-label label.sk-toggleable__label,\n#sk-container-id-1 div.sk-label label {\n  /* The background is the default theme color */\n  color: var(--sklearn-color-text-on-default-background);\n}\n\n/* On hover, darken the color of the background */\n#sk-container-id-1 div.sk-label:hover label.sk-toggleable__label {\n  color: var(--sklearn-color-text);\n  background-color: var(--sklearn-color-unfitted-level-2);\n}\n\n/* Label box, darken color on hover, fitted */\n#sk-container-id-1 div.sk-label.fitted:hover label.sk-toggleable__label.fitted {\n  color: var(--sklearn-color-text);\n  background-color: var(--sklearn-color-fitted-level-2);\n}\n\n/* Estimator label */\n\n#sk-container-id-1 div.sk-label label {\n  font-family: monospace;\n  font-weight: bold;\n  display: inline-block;\n  line-height: 1.2em;\n}\n\n#sk-container-id-1 div.sk-label-container {\n  text-align: center;\n}\n\n/* Estimator-specific */\n#sk-container-id-1 div.sk-estimator {\n  font-family: monospace;\n  border: 1px dotted var(--sklearn-color-border-box);\n  border-radius: 0.25em;\n  box-sizing: border-box;\n  margin-bottom: 0.5em;\n  /* unfitted */\n  background-color: var(--sklearn-color-unfitted-level-0);\n}\n\n#sk-container-id-1 div.sk-estimator.fitted {\n  /* fitted */\n  background-color: var(--sklearn-color-fitted-level-0);\n}\n\n/* on hover */\n#sk-container-id-1 div.sk-estimator:hover {\n  /* unfitted */\n  background-color: var(--sklearn-color-unfitted-level-2);\n}\n\n#sk-container-id-1 div.sk-estimator.fitted:hover {\n  /* fitted */\n  background-color: var(--sklearn-color-fitted-level-2);\n}\n\n/* Specification for estimator info (e.g. \"i\" and \"?\") */\n\n/* Common style for \"i\" and \"?\" */\n\n.sk-estimator-doc-link,\na:link.sk-estimator-doc-link,\na:visited.sk-estimator-doc-link {\n  float: right;\n  font-size: smaller;\n  line-height: 1em;\n  font-family: monospace;\n  background-color: var(--sklearn-color-background);\n  border-radius: 1em;\n  height: 1em;\n  width: 1em;\n  text-decoration: none !important;\n  margin-left: 1ex;\n  /* unfitted */\n  border: var(--sklearn-color-unfitted-level-1) 1pt solid;\n  color: var(--sklearn-color-unfitted-level-1);\n}\n\n.sk-estimator-doc-link.fitted,\na:link.sk-estimator-doc-link.fitted,\na:visited.sk-estimator-doc-link.fitted {\n  /* fitted */\n  border: var(--sklearn-color-fitted-level-1) 1pt solid;\n  color: var(--sklearn-color-fitted-level-1);\n}\n\n/* On hover */\ndiv.sk-estimator:hover .sk-estimator-doc-link:hover,\n.sk-estimator-doc-link:hover,\ndiv.sk-label-container:hover .sk-estimator-doc-link:hover,\n.sk-estimator-doc-link:hover {\n  /* unfitted */\n  background-color: var(--sklearn-color-unfitted-level-3);\n  color: var(--sklearn-color-background);\n  text-decoration: none;\n}\n\ndiv.sk-estimator.fitted:hover .sk-estimator-doc-link.fitted:hover,\n.sk-estimator-doc-link.fitted:hover,\ndiv.sk-label-container:hover .sk-estimator-doc-link.fitted:hover,\n.sk-estimator-doc-link.fitted:hover {\n  /* fitted */\n  background-color: var(--sklearn-color-fitted-level-3);\n  color: var(--sklearn-color-background);\n  text-decoration: none;\n}\n\n/* Span, style for the box shown on hovering the info icon */\n.sk-estimator-doc-link span {\n  display: none;\n  z-index: 9999;\n  position: relative;\n  font-weight: normal;\n  right: .2ex;\n  padding: .5ex;\n  margin: .5ex;\n  width: min-content;\n  min-width: 20ex;\n  max-width: 50ex;\n  color: var(--sklearn-color-text);\n  box-shadow: 2pt 2pt 4pt #999;\n  /* unfitted */\n  background: var(--sklearn-color-unfitted-level-0);\n  border: .5pt solid var(--sklearn-color-unfitted-level-3);\n}\n\n.sk-estimator-doc-link.fitted span {\n  /* fitted */\n  background: var(--sklearn-color-fitted-level-0);\n  border: var(--sklearn-color-fitted-level-3);\n}\n\n.sk-estimator-doc-link:hover span {\n  display: block;\n}\n\n/* \"?\"-specific style due to the `<a>` HTML tag */\n\n#sk-container-id-1 a.estimator_doc_link {\n  float: right;\n  font-size: 1rem;\n  line-height: 1em;\n  font-family: monospace;\n  background-color: var(--sklearn-color-background);\n  border-radius: 1rem;\n  height: 1rem;\n  width: 1rem;\n  text-decoration: none;\n  /* unfitted */\n  color: var(--sklearn-color-unfitted-level-1);\n  border: var(--sklearn-color-unfitted-level-1) 1pt solid;\n}\n\n#sk-container-id-1 a.estimator_doc_link.fitted {\n  /* fitted */\n  border: var(--sklearn-color-fitted-level-1) 1pt solid;\n  color: var(--sklearn-color-fitted-level-1);\n}\n\n/* On hover */\n#sk-container-id-1 a.estimator_doc_link:hover {\n  /* unfitted */\n  background-color: var(--sklearn-color-unfitted-level-3);\n  color: var(--sklearn-color-background);\n  text-decoration: none;\n}\n\n#sk-container-id-1 a.estimator_doc_link.fitted:hover {\n  /* fitted */\n  background-color: var(--sklearn-color-fitted-level-3);\n}\n</style><div id=\"sk-container-id-1\" class=\"sk-top-container\"><div class=\"sk-text-repr-fallback\"><pre>XGBClassifier(base_score=None, booster=None, callbacks=None,\n              colsample_bylevel=None, colsample_bynode=None,\n              colsample_bytree=None, device=None, early_stopping_rounds=None,\n              enable_categorical=False, eval_metric=None, feature_types=None,\n              gamma=None, grow_policy=None, importance_type=None,\n              interaction_constraints=None, learning_rate=0.05, max_bin=None,\n              max_cat_threshold=None, max_cat_to_onehot=None,\n              max_delta_step=None, max_depth=None, max_leaves=None,\n              min_child_weight=None, missing=nan, monotone_constraints=None,\n              multi_strategy=None, n_estimators=100, n_jobs=None,\n              num_parallel_tree=None, random_state=None, ...)</pre><b>In a Jupyter environment, please rerun this cell to show the HTML representation or trust the notebook. <br />On GitHub, the HTML representation is unable to render, please try loading this page with nbviewer.org.</b></div><div class=\"sk-container\" hidden><div class=\"sk-item\"><div class=\"sk-estimator fitted sk-toggleable\"><input class=\"sk-toggleable__control sk-hidden--visually\" id=\"sk-estimator-id-1\" type=\"checkbox\" checked><label for=\"sk-estimator-id-1\" class=\"sk-toggleable__label fitted sk-toggleable__label-arrow fitted\">&nbsp;XGBClassifier<span class=\"sk-estimator-doc-link fitted\">i<span>Fitted</span></span></label><div class=\"sk-toggleable__content fitted\"><pre>XGBClassifier(base_score=None, booster=None, callbacks=None,\n              colsample_bylevel=None, colsample_bynode=None,\n              colsample_bytree=None, device=None, early_stopping_rounds=None,\n              enable_categorical=False, eval_metric=None, feature_types=None,\n              gamma=None, grow_policy=None, importance_type=None,\n              interaction_constraints=None, learning_rate=0.05, max_bin=None,\n              max_cat_threshold=None, max_cat_to_onehot=None,\n              max_delta_step=None, max_depth=None, max_leaves=None,\n              min_child_weight=None, missing=nan, monotone_constraints=None,\n              multi_strategy=None, n_estimators=100, n_jobs=None,\n              num_parallel_tree=None, random_state=None, ...)</pre></div> </div></div></div></div>"
     },
     "execution_count": 15,
     "metadata": {},
     "output_type": "execute_result"
    }
   ],
   "source": [
    "X_train_selected = X_train[selected_features]\n",
    "X_test_selected = X_test[selected_features]\n",
    "\n",
    "# Example: Training an XGBoost model with the selected features\n",
    "xgb_model = XGBClassifier(n_estimators=100, learning_rate=0.05)\n",
    "xgb_model.fit(X_train_selected, y_train)  # Training with selected features"
   ],
   "metadata": {
    "collapsed": false,
    "ExecuteTime": {
     "end_time": "2024-05-05T17:26:56.285776700Z",
     "start_time": "2024-05-05T17:26:56.141395400Z"
    }
   },
   "id": "f5ab28936ca89769"
  },
  {
   "cell_type": "code",
   "execution_count": 16,
   "outputs": [],
   "source": [
    "results_df = pd.DataFrame(columns=['Model', 'Parameters', 'Accuracy', 'Precision', 'Recall', 'F1-Score', 'AUC-ROC'])"
   ],
   "metadata": {
    "collapsed": false,
    "ExecuteTime": {
     "end_time": "2024-05-05T17:26:56.309984300Z",
     "start_time": "2024-05-05T17:26:56.283668400Z"
    }
   },
   "id": "34047a5238391f36"
  },
  {
   "cell_type": "code",
   "execution_count": 17,
   "outputs": [],
   "source": [
    "n_estimators_grid = [50, 100, 150]\n",
    "learning_rate_grid = [0.01, 0.05, 0.1]\n",
    "max_depth_grid = [3, 5, 7]"
   ],
   "metadata": {
    "collapsed": false,
    "ExecuteTime": {
     "end_time": "2024-05-05T17:26:56.333240800Z",
     "start_time": "2024-05-05T17:26:56.299265400Z"
    }
   },
   "id": "3d2efb0bb16fa993"
  },
  {
   "cell_type": "code",
   "execution_count": 18,
   "outputs": [
    {
     "name": "stderr",
     "output_type": "stream",
     "text": [
      "C:\\Users\\varsh\\AppData\\Local\\Programs\\Python\\Python39\\lib\\site-packages\\sklearn\\metrics\\_classification.py:1509: UndefinedMetricWarning: Precision is ill-defined and being set to 0.0 in labels with no predicted samples. Use `zero_division` parameter to control this behavior.\n",
      "  _warn_prf(average, modifier, f\"{metric.capitalize()} is\", len(result))\n",
      "C:\\Users\\varsh\\AppData\\Local\\Temp\\ipykernel_18716\\675487804.py:31: FutureWarning: The behavior of DataFrame concatenation with empty or all-NA entries is deprecated. In a future version, this will no longer exclude empty or all-NA columns when determining the result dtypes. To retain the old behavior, exclude the relevant entries before the concat operation.\n",
      "  results_df = pd.concat([results_df, results], ignore_index=True)\n"
     ]
    }
   ],
   "source": [
    "for n_estimators in n_estimators_grid:\n",
    "    for learning_rate in learning_rate_grid:\n",
    "        for max_depth in max_depth_grid:\n",
    "            # Define the model with the current set of hyperparameters\n",
    "            model = XGBClassifier(n_estimators=n_estimators, learning_rate=learning_rate, max_depth=max_depth)\n",
    "            \n",
    "            # Fitting the models ( give this some time)\n",
    "            model.fit(X_train, y_train)\n",
    "            \n",
    "            # Predict on the test set\n",
    "            y_pred = model.predict(X_test)\n",
    "            \n",
    "            # model evalation! give this some time\n",
    "            accuracy = accuracy_score(y_test, y_pred)\n",
    "            precision = precision_score(y_test, y_pred, average='weighted')\n",
    "            recall = recall_score(y_test, y_pred, average='weighted')\n",
    "            f1 = f1_score(y_test, y_pred, average='weighted')\n",
    "            auc_roc = roc_auc_score(y_test, y_pred)\n",
    "            \n",
    "            results = pd.DataFrame({\n",
    "                'Model': ['XGBoost'],\n",
    "                'Parameters': [f\"n_estimators={n_estimators}, lr={learning_rate}, depth={max_depth}\"],\n",
    "                'Accuracy': [accuracy],\n",
    "                'Precision': [precision],\n",
    "                'Recall': [recall],\n",
    "                'F1-Score': [f1],\n",
    "                'AUC-ROC': [auc_roc]\n",
    "            })\n",
    "            \n",
    "            # Append results to the DataFrame\n",
    "            results_df = pd.concat([results_df, results], ignore_index=True)"
   ],
   "metadata": {
    "collapsed": false,
    "ExecuteTime": {
     "end_time": "2024-05-05T17:26:58.357525200Z",
     "start_time": "2024-05-05T17:26:56.319455500Z"
    }
   },
   "id": "92d8ba4517add478"
  },
  {
   "cell_type": "code",
   "execution_count": 19,
   "outputs": [],
   "source": [
    "#results_df.to_csv('xgboost_hyperparameter_tuning_results.csv', index=False)\n",
    "\n",
    "#print(\"Hyperparameter tuning for xgboost is complete, results are saved to the CSV file.\")"
   ],
   "metadata": {
    "collapsed": false,
    "ExecuteTime": {
     "end_time": "2024-05-05T17:26:58.380387700Z",
     "start_time": "2024-05-05T17:26:58.356496700Z"
    }
   },
   "id": "69b53cb57d955ffb"
  },
  {
   "cell_type": "code",
   "execution_count": 20,
   "outputs": [],
   "source": [
    "n_d_n_a_grid = [8, 16, 24]  # Common to set n_d = n_a\n",
    "max_epochs_grid = [50, 100]\n",
    "learning_rate_grid = [0.02, 0.01]"
   ],
   "metadata": {
    "collapsed": false,
    "ExecuteTime": {
     "end_time": "2024-05-05T17:26:58.407675700Z",
     "start_time": "2024-05-05T17:26:58.372516100Z"
    }
   },
   "id": "3f81e564622eda13"
  },
  {
   "cell_type": "code",
   "execution_count": 21,
   "outputs": [],
   "source": [
    "X_train_np = X_train.select_dtypes(include=[np.number]).values.astype('float32')\n",
    "X_test_np = X_test.select_dtypes(include=[np.number]).values.astype('float32')\n",
    "y_train_np = y_train.values.astype('int')\n",
    "y_test_np = y_test.values.astype('int')\n",
    "\n",
    "assert not np.isnan(X_train_np).any(), \"NaNs found in X_train\"\n",
    "assert not np.isnan(X_test_np).any(), \"NaNs found in X_test\"\n",
    "assert not np.isnan(y_train_np).any(), \"NaNs found in y_train\"\n",
    "assert not np.isnan(y_test_np).any(), \"NaNs found in y_test\""
   ],
   "metadata": {
    "collapsed": false,
    "ExecuteTime": {
     "end_time": "2024-05-05T17:26:58.408375900Z",
     "start_time": "2024-05-05T17:26:58.388185300Z"
    }
   },
   "id": "fdc134558c5a438e"
  },
  {
   "cell_type": "code",
   "execution_count": 22,
   "outputs": [
    {
     "name": "stderr",
     "output_type": "stream",
     "text": [
      "C:\\Users\\varsh\\AppData\\Local\\Programs\\Python\\Python39\\lib\\site-packages\\pytorch_tabnet\\abstract_model.py:82: UserWarning: Device used : cpu\n",
      "  warnings.warn(f\"Device used : {self.device}\")\n",
      "C:\\Users\\varsh\\AppData\\Local\\Programs\\Python\\Python39\\lib\\site-packages\\pytorch_tabnet\\abstract_model.py:687: UserWarning: No early stopping will be performed, last training weights will be used.\n",
      "  warnings.warn(wrn_msg)\n"
     ]
    },
    {
     "name": "stdout",
     "output_type": "stream",
     "text": [
      "epoch 0  | loss: 0.51007 |  0:00:02s\n",
      "epoch 1  | loss: 0.47138 |  0:00:05s\n",
      "epoch 2  | loss: 0.46926 |  0:00:07s\n",
      "epoch 3  | loss: 0.46427 |  0:00:10s\n",
      "epoch 4  | loss: 0.46355 |  0:00:12s\n",
      "epoch 5  | loss: 0.45793 |  0:00:15s\n",
      "epoch 6  | loss: 0.46531 |  0:00:17s\n",
      "epoch 7  | loss: 0.46343 |  0:00:20s\n",
      "epoch 8  | loss: 0.45664 |  0:00:22s\n",
      "epoch 9  | loss: 0.45344 |  0:00:24s\n",
      "epoch 10 | loss: 0.45944 |  0:00:27s\n",
      "epoch 11 | loss: 0.45165 |  0:00:29s\n",
      "epoch 12 | loss: 0.45624 |  0:00:32s\n",
      "epoch 13 | loss: 0.45521 |  0:00:34s\n",
      "epoch 14 | loss: 0.45615 |  0:00:36s\n",
      "epoch 15 | loss: 0.45732 |  0:00:39s\n",
      "epoch 16 | loss: 0.4569  |  0:00:41s\n",
      "epoch 17 | loss: 0.45207 |  0:00:44s\n",
      "epoch 18 | loss: 0.45195 |  0:00:46s\n",
      "epoch 19 | loss: 0.45213 |  0:00:48s\n",
      "epoch 20 | loss: 0.4546  |  0:00:51s\n",
      "epoch 21 | loss: 0.45428 |  0:00:53s\n",
      "epoch 22 | loss: 0.45478 |  0:00:56s\n",
      "epoch 23 | loss: 0.45365 |  0:00:59s\n",
      "epoch 24 | loss: 0.45546 |  0:01:01s\n",
      "epoch 25 | loss: 0.45327 |  0:01:04s\n",
      "epoch 26 | loss: 0.44782 |  0:01:06s\n",
      "epoch 27 | loss: 0.44984 |  0:01:08s\n",
      "epoch 28 | loss: 0.45051 |  0:01:11s\n",
      "epoch 29 | loss: 0.45462 |  0:01:13s\n",
      "epoch 30 | loss: 0.44836 |  0:01:16s\n",
      "epoch 31 | loss: 0.44983 |  0:01:18s\n",
      "epoch 32 | loss: 0.44885 |  0:01:20s\n",
      "epoch 33 | loss: 0.44985 |  0:01:23s\n",
      "epoch 34 | loss: 0.44975 |  0:01:25s\n",
      "epoch 35 | loss: 0.45191 |  0:01:28s\n",
      "epoch 36 | loss: 0.4486  |  0:01:30s\n",
      "epoch 37 | loss: 0.45282 |  0:01:32s\n",
      "epoch 38 | loss: 0.45236 |  0:01:35s\n",
      "epoch 39 | loss: 0.44926 |  0:01:37s\n",
      "epoch 40 | loss: 0.44623 |  0:01:40s\n",
      "epoch 41 | loss: 0.45116 |  0:01:42s\n",
      "epoch 42 | loss: 0.45094 |  0:01:44s\n",
      "epoch 43 | loss: 0.45049 |  0:01:47s\n",
      "epoch 44 | loss: 0.44795 |  0:01:49s\n",
      "epoch 45 | loss: 0.44388 |  0:01:52s\n",
      "epoch 46 | loss: 0.45103 |  0:01:54s\n",
      "epoch 47 | loss: 0.44929 |  0:01:56s\n",
      "epoch 48 | loss: 0.44818 |  0:01:59s\n",
      "epoch 49 | loss: 0.4473  |  0:02:01s\n"
     ]
    },
    {
     "name": "stderr",
     "output_type": "stream",
     "text": [
      "C:\\Users\\varsh\\AppData\\Local\\Programs\\Python\\Python39\\lib\\site-packages\\pytorch_tabnet\\abstract_model.py:82: UserWarning: Device used : cpu\n",
      "  warnings.warn(f\"Device used : {self.device}\")\n",
      "C:\\Users\\varsh\\AppData\\Local\\Programs\\Python\\Python39\\lib\\site-packages\\pytorch_tabnet\\abstract_model.py:687: UserWarning: No early stopping will be performed, last training weights will be used.\n",
      "  warnings.warn(wrn_msg)\n"
     ]
    },
    {
     "name": "stdout",
     "output_type": "stream",
     "text": [
      "epoch 0  | loss: 0.50506 |  0:00:02s\n",
      "epoch 1  | loss: 0.47836 |  0:00:04s\n",
      "epoch 2  | loss: 0.46701 |  0:00:07s\n",
      "epoch 3  | loss: 0.46337 |  0:00:09s\n",
      "epoch 4  | loss: 0.4622  |  0:00:11s\n",
      "epoch 5  | loss: 0.46052 |  0:00:14s\n",
      "epoch 6  | loss: 0.45889 |  0:00:16s\n",
      "epoch 7  | loss: 0.45918 |  0:00:19s\n",
      "epoch 8  | loss: 0.45538 |  0:00:21s\n",
      "epoch 9  | loss: 0.4542  |  0:00:24s\n",
      "epoch 10 | loss: 0.45862 |  0:00:26s\n",
      "epoch 11 | loss: 0.45314 |  0:00:28s\n",
      "epoch 12 | loss: 0.45525 |  0:00:31s\n",
      "epoch 13 | loss: 0.45723 |  0:00:33s\n",
      "epoch 14 | loss: 0.45387 |  0:00:36s\n",
      "epoch 15 | loss: 0.4561  |  0:00:38s\n",
      "epoch 16 | loss: 0.45612 |  0:00:41s\n",
      "epoch 17 | loss: 0.45316 |  0:00:43s\n",
      "epoch 18 | loss: 0.45228 |  0:00:45s\n",
      "epoch 19 | loss: 0.45046 |  0:00:48s\n",
      "epoch 20 | loss: 0.45115 |  0:00:50s\n",
      "epoch 21 | loss: 0.4515  |  0:00:53s\n",
      "epoch 22 | loss: 0.45381 |  0:00:56s\n",
      "epoch 23 | loss: 0.45483 |  0:00:59s\n",
      "epoch 24 | loss: 0.45321 |  0:01:02s\n",
      "epoch 25 | loss: 0.45258 |  0:01:04s\n",
      "epoch 26 | loss: 0.44775 |  0:01:08s\n",
      "epoch 27 | loss: 0.44879 |  0:01:11s\n",
      "epoch 28 | loss: 0.45176 |  0:01:13s\n",
      "epoch 29 | loss: 0.45344 |  0:01:16s\n",
      "epoch 30 | loss: 0.44949 |  0:01:18s\n",
      "epoch 31 | loss: 0.45024 |  0:01:21s\n",
      "epoch 32 | loss: 0.44824 |  0:01:23s\n",
      "epoch 33 | loss: 0.44753 |  0:01:25s\n",
      "epoch 34 | loss: 0.44868 |  0:01:28s\n",
      "epoch 35 | loss: 0.4523  |  0:01:30s\n",
      "epoch 36 | loss: 0.44963 |  0:01:33s\n",
      "epoch 37 | loss: 0.4522  |  0:01:35s\n",
      "epoch 38 | loss: 0.44978 |  0:01:37s\n",
      "epoch 39 | loss: 0.44625 |  0:01:40s\n",
      "epoch 40 | loss: 0.44726 |  0:01:42s\n",
      "epoch 41 | loss: 0.45062 |  0:01:45s\n",
      "epoch 42 | loss: 0.44925 |  0:01:47s\n",
      "epoch 43 | loss: 0.44794 |  0:01:51s\n",
      "epoch 44 | loss: 0.44606 |  0:01:54s\n",
      "epoch 45 | loss: 0.44255 |  0:01:57s\n",
      "epoch 46 | loss: 0.44598 |  0:01:59s\n",
      "epoch 47 | loss: 0.44794 |  0:02:02s\n",
      "epoch 48 | loss: 0.44876 |  0:02:04s\n",
      "epoch 49 | loss: 0.44625 |  0:02:07s\n"
     ]
    },
    {
     "name": "stderr",
     "output_type": "stream",
     "text": [
      "C:\\Users\\varsh\\AppData\\Local\\Programs\\Python\\Python39\\lib\\site-packages\\pytorch_tabnet\\abstract_model.py:82: UserWarning: Device used : cpu\n",
      "  warnings.warn(f\"Device used : {self.device}\")\n",
      "C:\\Users\\varsh\\AppData\\Local\\Programs\\Python\\Python39\\lib\\site-packages\\pytorch_tabnet\\abstract_model.py:687: UserWarning: No early stopping will be performed, last training weights will be used.\n",
      "  warnings.warn(wrn_msg)\n"
     ]
    },
    {
     "name": "stdout",
     "output_type": "stream",
     "text": [
      "epoch 0  | loss: 0.51007 |  0:00:02s\n",
      "epoch 1  | loss: 0.47138 |  0:00:05s\n",
      "epoch 2  | loss: 0.46926 |  0:00:07s\n",
      "epoch 3  | loss: 0.46427 |  0:00:10s\n",
      "epoch 4  | loss: 0.46355 |  0:00:12s\n",
      "epoch 5  | loss: 0.45793 |  0:00:15s\n",
      "epoch 6  | loss: 0.46531 |  0:00:17s\n",
      "epoch 7  | loss: 0.46343 |  0:00:20s\n",
      "epoch 8  | loss: 0.45664 |  0:00:22s\n",
      "epoch 9  | loss: 0.45344 |  0:00:25s\n",
      "epoch 10 | loss: 0.45944 |  0:00:28s\n",
      "epoch 11 | loss: 0.45165 |  0:00:30s\n",
      "epoch 12 | loss: 0.45624 |  0:00:33s\n",
      "epoch 13 | loss: 0.45521 |  0:00:35s\n",
      "epoch 14 | loss: 0.45615 |  0:00:38s\n",
      "epoch 15 | loss: 0.45732 |  0:00:40s\n",
      "epoch 16 | loss: 0.4569  |  0:00:43s\n",
      "epoch 17 | loss: 0.45207 |  0:00:45s\n",
      "epoch 18 | loss: 0.45195 |  0:00:48s\n",
      "epoch 19 | loss: 0.45213 |  0:00:50s\n",
      "epoch 20 | loss: 0.4546  |  0:00:53s\n",
      "epoch 21 | loss: 0.45428 |  0:00:56s\n",
      "epoch 22 | loss: 0.45478 |  0:00:58s\n",
      "epoch 23 | loss: 0.45365 |  0:01:01s\n",
      "epoch 24 | loss: 0.45546 |  0:01:03s\n",
      "epoch 25 | loss: 0.45327 |  0:01:06s\n",
      "epoch 26 | loss: 0.44782 |  0:01:08s\n",
      "epoch 27 | loss: 0.44984 |  0:01:11s\n",
      "epoch 28 | loss: 0.45051 |  0:01:14s\n",
      "epoch 29 | loss: 0.45462 |  0:01:16s\n",
      "epoch 30 | loss: 0.44836 |  0:01:19s\n",
      "epoch 31 | loss: 0.44983 |  0:01:21s\n",
      "epoch 32 | loss: 0.44885 |  0:01:24s\n",
      "epoch 33 | loss: 0.44985 |  0:01:26s\n",
      "epoch 34 | loss: 0.44975 |  0:01:29s\n",
      "epoch 35 | loss: 0.45191 |  0:01:31s\n",
      "epoch 36 | loss: 0.4486  |  0:01:34s\n",
      "epoch 37 | loss: 0.45282 |  0:01:37s\n",
      "epoch 38 | loss: 0.45236 |  0:01:39s\n",
      "epoch 39 | loss: 0.44926 |  0:01:42s\n",
      "epoch 40 | loss: 0.44623 |  0:01:44s\n",
      "epoch 41 | loss: 0.45116 |  0:01:47s\n",
      "epoch 42 | loss: 0.45094 |  0:01:49s\n",
      "epoch 43 | loss: 0.45049 |  0:01:52s\n",
      "epoch 44 | loss: 0.44795 |  0:01:55s\n",
      "epoch 45 | loss: 0.44388 |  0:01:57s\n",
      "epoch 46 | loss: 0.45103 |  0:02:00s\n",
      "epoch 47 | loss: 0.44929 |  0:02:02s\n",
      "epoch 48 | loss: 0.44818 |  0:02:05s\n",
      "epoch 49 | loss: 0.4473  |  0:02:07s\n",
      "epoch 50 | loss: 0.44571 |  0:02:10s\n",
      "epoch 51 | loss: 0.44751 |  0:02:12s\n",
      "epoch 52 | loss: 0.44612 |  0:02:15s\n",
      "epoch 53 | loss: 0.44863 |  0:02:17s\n",
      "epoch 54 | loss: 0.4472  |  0:02:20s\n",
      "epoch 55 | loss: 0.4461  |  0:02:23s\n",
      "epoch 56 | loss: 0.44743 |  0:02:25s\n",
      "epoch 57 | loss: 0.44391 |  0:02:28s\n",
      "epoch 58 | loss: 0.44227 |  0:02:30s\n",
      "epoch 59 | loss: 0.44509 |  0:02:33s\n",
      "epoch 60 | loss: 0.44838 |  0:02:35s\n",
      "epoch 61 | loss: 0.44533 |  0:02:38s\n",
      "epoch 62 | loss: 0.44806 |  0:02:40s\n",
      "epoch 63 | loss: 0.44582 |  0:02:43s\n",
      "epoch 64 | loss: 0.44622 |  0:02:45s\n",
      "epoch 65 | loss: 0.44689 |  0:02:48s\n",
      "epoch 66 | loss: 0.44636 |  0:02:51s\n",
      "epoch 67 | loss: 0.4461  |  0:02:53s\n",
      "epoch 68 | loss: 0.44479 |  0:02:56s\n",
      "epoch 69 | loss: 0.44494 |  0:02:58s\n",
      "epoch 70 | loss: 0.44536 |  0:03:01s\n",
      "epoch 71 | loss: 0.44569 |  0:03:03s\n",
      "epoch 72 | loss: 0.44321 |  0:03:06s\n",
      "epoch 73 | loss: 0.44808 |  0:03:09s\n",
      "epoch 74 | loss: 0.44627 |  0:03:11s\n",
      "epoch 75 | loss: 0.44293 |  0:03:14s\n",
      "epoch 76 | loss: 0.44701 |  0:03:16s\n",
      "epoch 77 | loss: 0.44477 |  0:03:19s\n",
      "epoch 78 | loss: 0.44486 |  0:03:21s\n",
      "epoch 79 | loss: 0.44631 |  0:03:24s\n",
      "epoch 80 | loss: 0.44612 |  0:03:27s\n",
      "epoch 81 | loss: 0.4479  |  0:03:29s\n",
      "epoch 82 | loss: 0.44436 |  0:03:32s\n",
      "epoch 83 | loss: 0.44304 |  0:03:34s\n",
      "epoch 84 | loss: 0.44348 |  0:03:37s\n",
      "epoch 85 | loss: 0.44416 |  0:03:39s\n",
      "epoch 86 | loss: 0.44706 |  0:03:42s\n",
      "epoch 87 | loss: 0.44269 |  0:03:44s\n",
      "epoch 88 | loss: 0.44417 |  0:03:47s\n",
      "epoch 89 | loss: 0.4447  |  0:03:49s\n",
      "epoch 90 | loss: 0.44229 |  0:03:52s\n",
      "epoch 91 | loss: 0.44219 |  0:03:54s\n",
      "epoch 92 | loss: 0.44532 |  0:03:56s\n",
      "epoch 93 | loss: 0.44493 |  0:03:59s\n",
      "epoch 94 | loss: 0.44449 |  0:04:01s\n",
      "epoch 95 | loss: 0.44407 |  0:04:04s\n",
      "epoch 96 | loss: 0.44499 |  0:04:06s\n",
      "epoch 97 | loss: 0.44445 |  0:04:08s\n",
      "epoch 98 | loss: 0.441   |  0:04:11s\n",
      "epoch 99 | loss: 0.44311 |  0:04:13s\n"
     ]
    },
    {
     "name": "stderr",
     "output_type": "stream",
     "text": [
      "C:\\Users\\varsh\\AppData\\Local\\Programs\\Python\\Python39\\lib\\site-packages\\pytorch_tabnet\\abstract_model.py:82: UserWarning: Device used : cpu\n",
      "  warnings.warn(f\"Device used : {self.device}\")\n",
      "C:\\Users\\varsh\\AppData\\Local\\Programs\\Python\\Python39\\lib\\site-packages\\pytorch_tabnet\\abstract_model.py:687: UserWarning: No early stopping will be performed, last training weights will be used.\n",
      "  warnings.warn(wrn_msg)\n"
     ]
    },
    {
     "name": "stdout",
     "output_type": "stream",
     "text": [
      "epoch 0  | loss: 0.50506 |  0:00:02s\n",
      "epoch 1  | loss: 0.47836 |  0:00:04s\n",
      "epoch 2  | loss: 0.46701 |  0:00:07s\n",
      "epoch 3  | loss: 0.46337 |  0:00:09s\n",
      "epoch 4  | loss: 0.4622  |  0:00:12s\n",
      "epoch 5  | loss: 0.46052 |  0:00:14s\n",
      "epoch 6  | loss: 0.45889 |  0:00:16s\n",
      "epoch 7  | loss: 0.45918 |  0:00:19s\n",
      "epoch 8  | loss: 0.45538 |  0:00:21s\n",
      "epoch 9  | loss: 0.4542  |  0:00:24s\n",
      "epoch 10 | loss: 0.45862 |  0:00:26s\n",
      "epoch 11 | loss: 0.45314 |  0:00:28s\n",
      "epoch 12 | loss: 0.45525 |  0:00:31s\n",
      "epoch 13 | loss: 0.45723 |  0:00:33s\n",
      "epoch 14 | loss: 0.45387 |  0:00:36s\n",
      "epoch 15 | loss: 0.4561  |  0:00:38s\n",
      "epoch 16 | loss: 0.45612 |  0:00:41s\n",
      "epoch 17 | loss: 0.45316 |  0:00:43s\n",
      "epoch 18 | loss: 0.45228 |  0:00:45s\n",
      "epoch 19 | loss: 0.45046 |  0:00:48s\n",
      "epoch 20 | loss: 0.45115 |  0:00:50s\n",
      "epoch 21 | loss: 0.4515  |  0:00:53s\n",
      "epoch 22 | loss: 0.45381 |  0:00:55s\n",
      "epoch 23 | loss: 0.45483 |  0:00:57s\n",
      "epoch 24 | loss: 0.45321 |  0:01:00s\n",
      "epoch 25 | loss: 0.45258 |  0:01:02s\n",
      "epoch 26 | loss: 0.44775 |  0:01:05s\n",
      "epoch 27 | loss: 0.44879 |  0:01:07s\n",
      "epoch 28 | loss: 0.45176 |  0:01:09s\n",
      "epoch 29 | loss: 0.45344 |  0:01:12s\n",
      "epoch 30 | loss: 0.44949 |  0:01:14s\n",
      "epoch 31 | loss: 0.45024 |  0:01:17s\n",
      "epoch 32 | loss: 0.44824 |  0:01:19s\n",
      "epoch 33 | loss: 0.44753 |  0:01:21s\n",
      "epoch 34 | loss: 0.44868 |  0:01:24s\n",
      "epoch 35 | loss: 0.4523  |  0:01:26s\n",
      "epoch 36 | loss: 0.44963 |  0:01:29s\n",
      "epoch 37 | loss: 0.4522  |  0:01:32s\n",
      "epoch 38 | loss: 0.44978 |  0:01:34s\n",
      "epoch 39 | loss: 0.44625 |  0:01:37s\n",
      "epoch 40 | loss: 0.44726 |  0:01:39s\n",
      "epoch 41 | loss: 0.45062 |  0:01:42s\n",
      "epoch 42 | loss: 0.44925 |  0:01:44s\n",
      "epoch 43 | loss: 0.44794 |  0:01:47s\n",
      "epoch 44 | loss: 0.44606 |  0:01:49s\n",
      "epoch 45 | loss: 0.44255 |  0:01:51s\n",
      "epoch 46 | loss: 0.44598 |  0:01:54s\n",
      "epoch 47 | loss: 0.44794 |  0:01:56s\n",
      "epoch 48 | loss: 0.44876 |  0:01:59s\n",
      "epoch 49 | loss: 0.44625 |  0:02:01s\n",
      "epoch 50 | loss: 0.44772 |  0:02:04s\n",
      "epoch 51 | loss: 0.44462 |  0:02:06s\n",
      "epoch 52 | loss: 0.44708 |  0:02:09s\n",
      "epoch 53 | loss: 0.45048 |  0:02:11s\n",
      "epoch 54 | loss: 0.44801 |  0:02:14s\n",
      "epoch 55 | loss: 0.44319 |  0:02:16s\n",
      "epoch 56 | loss: 0.44683 |  0:02:18s\n",
      "epoch 57 | loss: 0.44559 |  0:02:21s\n",
      "epoch 58 | loss: 0.44512 |  0:02:23s\n",
      "epoch 59 | loss: 0.44251 |  0:02:26s\n",
      "epoch 60 | loss: 0.44646 |  0:02:28s\n",
      "epoch 61 | loss: 0.44944 |  0:02:31s\n",
      "epoch 62 | loss: 0.44546 |  0:02:33s\n",
      "epoch 63 | loss: 0.44455 |  0:02:36s\n",
      "epoch 64 | loss: 0.4465  |  0:02:38s\n",
      "epoch 65 | loss: 0.44552 |  0:02:41s\n",
      "epoch 66 | loss: 0.44358 |  0:02:43s\n",
      "epoch 67 | loss: 0.4448  |  0:02:46s\n",
      "epoch 68 | loss: 0.4428  |  0:02:48s\n",
      "epoch 69 | loss: 0.44193 |  0:02:51s\n",
      "epoch 70 | loss: 0.44437 |  0:02:53s\n",
      "epoch 71 | loss: 0.44561 |  0:02:56s\n",
      "epoch 72 | loss: 0.44384 |  0:02:58s\n",
      "epoch 73 | loss: 0.4445  |  0:03:00s\n",
      "epoch 74 | loss: 0.44472 |  0:03:03s\n",
      "epoch 75 | loss: 0.44208 |  0:03:05s\n",
      "epoch 76 | loss: 0.44322 |  0:03:08s\n",
      "epoch 77 | loss: 0.44331 |  0:03:10s\n",
      "epoch 78 | loss: 0.44367 |  0:03:13s\n",
      "epoch 79 | loss: 0.44289 |  0:03:15s\n",
      "epoch 80 | loss: 0.44046 |  0:03:18s\n",
      "epoch 81 | loss: 0.44361 |  0:03:20s\n",
      "epoch 82 | loss: 0.44219 |  0:03:23s\n",
      "epoch 83 | loss: 0.44284 |  0:03:25s\n",
      "epoch 84 | loss: 0.44193 |  0:03:28s\n",
      "epoch 85 | loss: 0.44213 |  0:03:30s\n",
      "epoch 86 | loss: 0.44608 |  0:03:33s\n",
      "epoch 87 | loss: 0.44053 |  0:03:35s\n",
      "epoch 88 | loss: 0.44184 |  0:03:38s\n",
      "epoch 89 | loss: 0.44276 |  0:03:40s\n",
      "epoch 90 | loss: 0.43787 |  0:03:42s\n",
      "epoch 91 | loss: 0.44051 |  0:03:45s\n",
      "epoch 92 | loss: 0.44352 |  0:03:47s\n",
      "epoch 93 | loss: 0.43847 |  0:03:50s\n",
      "epoch 94 | loss: 0.4416  |  0:03:52s\n",
      "epoch 95 | loss: 0.44401 |  0:03:55s\n",
      "epoch 96 | loss: 0.44328 |  0:03:57s\n",
      "epoch 97 | loss: 0.44069 |  0:04:00s\n",
      "epoch 98 | loss: 0.43801 |  0:04:02s\n",
      "epoch 99 | loss: 0.44139 |  0:04:05s\n"
     ]
    },
    {
     "name": "stderr",
     "output_type": "stream",
     "text": [
      "C:\\Users\\varsh\\AppData\\Local\\Programs\\Python\\Python39\\lib\\site-packages\\pytorch_tabnet\\abstract_model.py:82: UserWarning: Device used : cpu\n",
      "  warnings.warn(f\"Device used : {self.device}\")\n",
      "C:\\Users\\varsh\\AppData\\Local\\Programs\\Python\\Python39\\lib\\site-packages\\pytorch_tabnet\\abstract_model.py:687: UserWarning: No early stopping will be performed, last training weights will be used.\n",
      "  warnings.warn(wrn_msg)\n"
     ]
    },
    {
     "name": "stdout",
     "output_type": "stream",
     "text": [
      "epoch 0  | loss: 0.49745 |  0:00:02s\n",
      "epoch 1  | loss: 0.47785 |  0:00:05s\n",
      "epoch 2  | loss: 0.46475 |  0:00:07s\n",
      "epoch 3  | loss: 0.46347 |  0:00:10s\n",
      "epoch 4  | loss: 0.46557 |  0:00:12s\n",
      "epoch 5  | loss: 0.46383 |  0:00:15s\n",
      "epoch 6  | loss: 0.46116 |  0:00:17s\n",
      "epoch 7  | loss: 0.46271 |  0:00:20s\n",
      "epoch 8  | loss: 0.46306 |  0:00:22s\n",
      "epoch 9  | loss: 0.46214 |  0:00:25s\n",
      "epoch 10 | loss: 0.45888 |  0:00:27s\n",
      "epoch 11 | loss: 0.4599  |  0:00:30s\n",
      "epoch 12 | loss: 0.45662 |  0:00:33s\n",
      "epoch 13 | loss: 0.45929 |  0:00:35s\n",
      "epoch 14 | loss: 0.45664 |  0:00:38s\n",
      "epoch 15 | loss: 0.4533  |  0:00:40s\n",
      "epoch 16 | loss: 0.45788 |  0:00:43s\n",
      "epoch 17 | loss: 0.45891 |  0:00:45s\n",
      "epoch 18 | loss: 0.46618 |  0:00:48s\n",
      "epoch 19 | loss: 0.45646 |  0:00:50s\n",
      "epoch 20 | loss: 0.45294 |  0:00:53s\n",
      "epoch 21 | loss: 0.45211 |  0:00:55s\n",
      "epoch 22 | loss: 0.45351 |  0:00:58s\n",
      "epoch 23 | loss: 0.45261 |  0:01:00s\n",
      "epoch 24 | loss: 0.45049 |  0:01:03s\n",
      "epoch 25 | loss: 0.45318 |  0:01:05s\n",
      "epoch 26 | loss: 0.45533 |  0:01:08s\n",
      "epoch 27 | loss: 0.45498 |  0:01:10s\n",
      "epoch 28 | loss: 0.45437 |  0:01:13s\n",
      "epoch 29 | loss: 0.45197 |  0:01:15s\n",
      "epoch 30 | loss: 0.45456 |  0:01:18s\n",
      "epoch 31 | loss: 0.451   |  0:01:20s\n",
      "epoch 32 | loss: 0.45206 |  0:01:23s\n",
      "epoch 33 | loss: 0.44752 |  0:01:25s\n",
      "epoch 34 | loss: 0.4496  |  0:01:28s\n",
      "epoch 35 | loss: 0.4503  |  0:01:31s\n",
      "epoch 36 | loss: 0.4514  |  0:01:33s\n",
      "epoch 37 | loss: 0.44811 |  0:01:36s\n",
      "epoch 38 | loss: 0.45099 |  0:01:38s\n",
      "epoch 39 | loss: 0.45077 |  0:01:41s\n",
      "epoch 40 | loss: 0.45471 |  0:01:43s\n",
      "epoch 41 | loss: 0.44943 |  0:01:46s\n",
      "epoch 42 | loss: 0.44974 |  0:01:48s\n",
      "epoch 43 | loss: 0.44864 |  0:01:51s\n",
      "epoch 44 | loss: 0.45003 |  0:01:53s\n",
      "epoch 45 | loss: 0.44987 |  0:01:56s\n",
      "epoch 46 | loss: 0.45096 |  0:01:58s\n",
      "epoch 47 | loss: 0.45054 |  0:02:01s\n",
      "epoch 48 | loss: 0.44946 |  0:02:03s\n",
      "epoch 49 | loss: 0.44787 |  0:02:06s\n"
     ]
    },
    {
     "name": "stderr",
     "output_type": "stream",
     "text": [
      "C:\\Users\\varsh\\AppData\\Local\\Programs\\Python\\Python39\\lib\\site-packages\\pytorch_tabnet\\abstract_model.py:82: UserWarning: Device used : cpu\n",
      "  warnings.warn(f\"Device used : {self.device}\")\n",
      "C:\\Users\\varsh\\AppData\\Local\\Programs\\Python\\Python39\\lib\\site-packages\\pytorch_tabnet\\abstract_model.py:687: UserWarning: No early stopping will be performed, last training weights will be used.\n",
      "  warnings.warn(wrn_msg)\n"
     ]
    },
    {
     "name": "stdout",
     "output_type": "stream",
     "text": [
      "epoch 0  | loss: 0.5037  |  0:00:02s\n",
      "epoch 1  | loss: 0.47606 |  0:00:05s\n",
      "epoch 2  | loss: 0.4703  |  0:00:07s\n",
      "epoch 3  | loss: 0.46573 |  0:00:10s\n",
      "epoch 4  | loss: 0.46725 |  0:00:12s\n",
      "epoch 5  | loss: 0.46613 |  0:00:15s\n",
      "epoch 6  | loss: 0.46179 |  0:00:17s\n",
      "epoch 7  | loss: 0.46091 |  0:00:20s\n",
      "epoch 8  | loss: 0.4619  |  0:00:22s\n",
      "epoch 9  | loss: 0.46225 |  0:00:25s\n",
      "epoch 10 | loss: 0.45807 |  0:00:27s\n",
      "epoch 11 | loss: 0.45955 |  0:00:30s\n",
      "epoch 12 | loss: 0.45972 |  0:00:32s\n",
      "epoch 13 | loss: 0.45611 |  0:00:35s\n",
      "epoch 14 | loss: 0.45351 |  0:00:38s\n",
      "epoch 15 | loss: 0.45337 |  0:00:40s\n",
      "epoch 16 | loss: 0.45802 |  0:00:43s\n",
      "epoch 17 | loss: 0.45394 |  0:00:46s\n",
      "epoch 18 | loss: 0.45822 |  0:00:48s\n",
      "epoch 19 | loss: 0.45488 |  0:00:52s\n",
      "epoch 20 | loss: 0.45178 |  0:00:55s\n",
      "epoch 21 | loss: 0.4549  |  0:00:58s\n",
      "epoch 22 | loss: 0.45263 |  0:01:01s\n",
      "epoch 23 | loss: 0.4531  |  0:01:04s\n",
      "epoch 24 | loss: 0.45363 |  0:01:06s\n",
      "epoch 25 | loss: 0.4526  |  0:01:09s\n",
      "epoch 26 | loss: 0.4531  |  0:01:11s\n",
      "epoch 27 | loss: 0.45409 |  0:01:14s\n",
      "epoch 28 | loss: 0.45262 |  0:01:16s\n",
      "epoch 29 | loss: 0.45317 |  0:01:19s\n",
      "epoch 30 | loss: 0.45394 |  0:01:22s\n",
      "epoch 31 | loss: 0.45016 |  0:01:24s\n",
      "epoch 32 | loss: 0.45038 |  0:01:27s\n",
      "epoch 33 | loss: 0.44567 |  0:01:29s\n",
      "epoch 34 | loss: 0.45172 |  0:01:32s\n",
      "epoch 35 | loss: 0.44713 |  0:01:34s\n",
      "epoch 36 | loss: 0.45228 |  0:01:37s\n",
      "epoch 37 | loss: 0.45035 |  0:01:39s\n",
      "epoch 38 | loss: 0.45248 |  0:01:42s\n",
      "epoch 39 | loss: 0.44911 |  0:01:44s\n",
      "epoch 40 | loss: 0.45349 |  0:01:47s\n",
      "epoch 41 | loss: 0.45138 |  0:01:49s\n",
      "epoch 42 | loss: 0.44896 |  0:01:52s\n",
      "epoch 43 | loss: 0.44666 |  0:01:54s\n",
      "epoch 44 | loss: 0.45182 |  0:01:57s\n",
      "epoch 45 | loss: 0.44983 |  0:01:59s\n",
      "epoch 46 | loss: 0.45001 |  0:02:02s\n",
      "epoch 47 | loss: 0.44897 |  0:02:04s\n",
      "epoch 48 | loss: 0.44903 |  0:02:07s\n",
      "epoch 49 | loss: 0.44762 |  0:02:09s\n"
     ]
    },
    {
     "name": "stderr",
     "output_type": "stream",
     "text": [
      "C:\\Users\\varsh\\AppData\\Local\\Programs\\Python\\Python39\\lib\\site-packages\\pytorch_tabnet\\abstract_model.py:82: UserWarning: Device used : cpu\n",
      "  warnings.warn(f\"Device used : {self.device}\")\n",
      "C:\\Users\\varsh\\AppData\\Local\\Programs\\Python\\Python39\\lib\\site-packages\\pytorch_tabnet\\abstract_model.py:687: UserWarning: No early stopping will be performed, last training weights will be used.\n",
      "  warnings.warn(wrn_msg)\n"
     ]
    },
    {
     "name": "stdout",
     "output_type": "stream",
     "text": [
      "epoch 0  | loss: 0.49745 |  0:00:02s\n",
      "epoch 1  | loss: 0.47785 |  0:00:05s\n",
      "epoch 2  | loss: 0.46475 |  0:00:07s\n",
      "epoch 3  | loss: 0.46347 |  0:00:10s\n",
      "epoch 4  | loss: 0.46557 |  0:00:12s\n",
      "epoch 5  | loss: 0.46383 |  0:00:15s\n",
      "epoch 6  | loss: 0.46116 |  0:00:17s\n",
      "epoch 7  | loss: 0.46271 |  0:00:20s\n",
      "epoch 8  | loss: 0.46306 |  0:00:22s\n",
      "epoch 9  | loss: 0.46214 |  0:00:25s\n",
      "epoch 10 | loss: 0.45888 |  0:00:27s\n",
      "epoch 11 | loss: 0.4599  |  0:00:30s\n",
      "epoch 12 | loss: 0.45662 |  0:00:32s\n",
      "epoch 13 | loss: 0.45929 |  0:00:35s\n",
      "epoch 14 | loss: 0.45664 |  0:00:37s\n",
      "epoch 15 | loss: 0.4533  |  0:00:40s\n",
      "epoch 16 | loss: 0.45788 |  0:00:42s\n",
      "epoch 17 | loss: 0.45891 |  0:00:45s\n",
      "epoch 18 | loss: 0.46618 |  0:00:48s\n",
      "epoch 19 | loss: 0.45646 |  0:00:50s\n",
      "epoch 20 | loss: 0.45294 |  0:00:53s\n",
      "epoch 21 | loss: 0.45211 |  0:00:55s\n",
      "epoch 22 | loss: 0.45351 |  0:00:58s\n",
      "epoch 23 | loss: 0.45261 |  0:01:00s\n",
      "epoch 24 | loss: 0.45049 |  0:01:03s\n",
      "epoch 25 | loss: 0.45318 |  0:01:05s\n",
      "epoch 26 | loss: 0.45533 |  0:01:08s\n",
      "epoch 27 | loss: 0.45498 |  0:01:10s\n",
      "epoch 28 | loss: 0.45437 |  0:01:13s\n",
      "epoch 29 | loss: 0.45197 |  0:01:15s\n",
      "epoch 30 | loss: 0.45456 |  0:01:18s\n",
      "epoch 31 | loss: 0.451   |  0:01:20s\n",
      "epoch 32 | loss: 0.45206 |  0:01:23s\n",
      "epoch 33 | loss: 0.44752 |  0:01:25s\n",
      "epoch 34 | loss: 0.4496  |  0:01:28s\n",
      "epoch 35 | loss: 0.4503  |  0:01:30s\n",
      "epoch 36 | loss: 0.4514  |  0:01:33s\n",
      "epoch 37 | loss: 0.44811 |  0:01:35s\n",
      "epoch 38 | loss: 0.45099 |  0:01:38s\n",
      "epoch 39 | loss: 0.45077 |  0:01:40s\n",
      "epoch 40 | loss: 0.45471 |  0:01:43s\n",
      "epoch 41 | loss: 0.44943 |  0:01:45s\n",
      "epoch 42 | loss: 0.44974 |  0:01:48s\n",
      "epoch 43 | loss: 0.44864 |  0:01:50s\n",
      "epoch 44 | loss: 0.45003 |  0:01:53s\n",
      "epoch 45 | loss: 0.44987 |  0:01:56s\n",
      "epoch 46 | loss: 0.45096 |  0:01:58s\n",
      "epoch 47 | loss: 0.45054 |  0:02:01s\n",
      "epoch 48 | loss: 0.44946 |  0:02:03s\n",
      "epoch 49 | loss: 0.44787 |  0:02:06s\n",
      "epoch 50 | loss: 0.44988 |  0:02:08s\n",
      "epoch 51 | loss: 0.44666 |  0:02:11s\n",
      "epoch 52 | loss: 0.44694 |  0:02:13s\n",
      "epoch 53 | loss: 0.4502  |  0:02:16s\n",
      "epoch 54 | loss: 0.44896 |  0:02:18s\n",
      "epoch 55 | loss: 0.4482  |  0:02:21s\n",
      "epoch 56 | loss: 0.44692 |  0:02:23s\n",
      "epoch 57 | loss: 0.44677 |  0:02:26s\n",
      "epoch 58 | loss: 0.44753 |  0:02:28s\n",
      "epoch 59 | loss: 0.44823 |  0:02:31s\n",
      "epoch 60 | loss: 0.4491  |  0:02:33s\n",
      "epoch 61 | loss: 0.44766 |  0:02:36s\n",
      "epoch 62 | loss: 0.44552 |  0:02:39s\n",
      "epoch 63 | loss: 0.44491 |  0:02:41s\n",
      "epoch 64 | loss: 0.44574 |  0:02:44s\n",
      "epoch 65 | loss: 0.44522 |  0:02:46s\n",
      "epoch 66 | loss: 0.44488 |  0:02:49s\n",
      "epoch 67 | loss: 0.44426 |  0:02:51s\n",
      "epoch 68 | loss: 0.44498 |  0:02:54s\n",
      "epoch 69 | loss: 0.44572 |  0:02:56s\n",
      "epoch 70 | loss: 0.44388 |  0:02:59s\n",
      "epoch 71 | loss: 0.44648 |  0:03:01s\n",
      "epoch 72 | loss: 0.44599 |  0:03:04s\n",
      "epoch 73 | loss: 0.44357 |  0:03:06s\n",
      "epoch 74 | loss: 0.44722 |  0:03:09s\n",
      "epoch 75 | loss: 0.44463 |  0:03:11s\n",
      "epoch 76 | loss: 0.44681 |  0:03:14s\n",
      "epoch 77 | loss: 0.44416 |  0:03:16s\n",
      "epoch 78 | loss: 0.44584 |  0:03:19s\n",
      "epoch 79 | loss: 0.44265 |  0:03:21s\n",
      "epoch 80 | loss: 0.44603 |  0:03:24s\n",
      "epoch 81 | loss: 0.44602 |  0:03:26s\n",
      "epoch 82 | loss: 0.44687 |  0:03:29s\n",
      "epoch 83 | loss: 0.44564 |  0:03:31s\n",
      "epoch 84 | loss: 0.44492 |  0:03:34s\n",
      "epoch 85 | loss: 0.44679 |  0:03:36s\n",
      "epoch 86 | loss: 0.44665 |  0:03:39s\n",
      "epoch 87 | loss: 0.44357 |  0:03:41s\n",
      "epoch 88 | loss: 0.44328 |  0:03:44s\n",
      "epoch 89 | loss: 0.44439 |  0:03:46s\n",
      "epoch 90 | loss: 0.44439 |  0:03:49s\n",
      "epoch 91 | loss: 0.44829 |  0:03:52s\n",
      "epoch 92 | loss: 0.44629 |  0:03:54s\n",
      "epoch 93 | loss: 0.44586 |  0:03:57s\n",
      "epoch 94 | loss: 0.44734 |  0:03:59s\n",
      "epoch 95 | loss: 0.44646 |  0:04:02s\n",
      "epoch 96 | loss: 0.4447  |  0:04:04s\n",
      "epoch 97 | loss: 0.44331 |  0:04:07s\n",
      "epoch 98 | loss: 0.44627 |  0:04:09s\n",
      "epoch 99 | loss: 0.44425 |  0:04:12s\n"
     ]
    },
    {
     "name": "stderr",
     "output_type": "stream",
     "text": [
      "C:\\Users\\varsh\\AppData\\Local\\Programs\\Python\\Python39\\lib\\site-packages\\pytorch_tabnet\\abstract_model.py:82: UserWarning: Device used : cpu\n",
      "  warnings.warn(f\"Device used : {self.device}\")\n",
      "C:\\Users\\varsh\\AppData\\Local\\Programs\\Python\\Python39\\lib\\site-packages\\pytorch_tabnet\\abstract_model.py:687: UserWarning: No early stopping will be performed, last training weights will be used.\n",
      "  warnings.warn(wrn_msg)\n"
     ]
    },
    {
     "name": "stdout",
     "output_type": "stream",
     "text": [
      "epoch 0  | loss: 0.5037  |  0:00:02s\n",
      "epoch 1  | loss: 0.47606 |  0:00:05s\n",
      "epoch 2  | loss: 0.4703  |  0:00:07s\n",
      "epoch 3  | loss: 0.46573 |  0:00:10s\n",
      "epoch 4  | loss: 0.46725 |  0:00:12s\n",
      "epoch 5  | loss: 0.46613 |  0:00:15s\n",
      "epoch 6  | loss: 0.46179 |  0:00:17s\n",
      "epoch 7  | loss: 0.46091 |  0:00:20s\n",
      "epoch 8  | loss: 0.4619  |  0:00:22s\n",
      "epoch 9  | loss: 0.46225 |  0:00:25s\n",
      "epoch 10 | loss: 0.45807 |  0:00:27s\n",
      "epoch 11 | loss: 0.45955 |  0:00:30s\n",
      "epoch 12 | loss: 0.45972 |  0:00:32s\n",
      "epoch 13 | loss: 0.45611 |  0:00:35s\n",
      "epoch 14 | loss: 0.45351 |  0:00:37s\n",
      "epoch 15 | loss: 0.45337 |  0:00:40s\n",
      "epoch 16 | loss: 0.45802 |  0:00:42s\n",
      "epoch 17 | loss: 0.45394 |  0:00:45s\n",
      "epoch 18 | loss: 0.45822 |  0:00:47s\n",
      "epoch 19 | loss: 0.45488 |  0:00:50s\n",
      "epoch 20 | loss: 0.45178 |  0:00:52s\n",
      "epoch 21 | loss: 0.4549  |  0:00:55s\n",
      "epoch 22 | loss: 0.45263 |  0:00:57s\n",
      "epoch 23 | loss: 0.4531  |  0:01:00s\n",
      "epoch 24 | loss: 0.45363 |  0:01:02s\n",
      "epoch 25 | loss: 0.4526  |  0:01:05s\n",
      "epoch 26 | loss: 0.4531  |  0:01:08s\n",
      "epoch 27 | loss: 0.45409 |  0:01:10s\n",
      "epoch 28 | loss: 0.45262 |  0:01:13s\n",
      "epoch 29 | loss: 0.45317 |  0:01:15s\n",
      "epoch 30 | loss: 0.45394 |  0:01:18s\n",
      "epoch 31 | loss: 0.45016 |  0:01:20s\n",
      "epoch 32 | loss: 0.45038 |  0:01:23s\n",
      "epoch 33 | loss: 0.44567 |  0:01:25s\n",
      "epoch 34 | loss: 0.45172 |  0:01:28s\n",
      "epoch 35 | loss: 0.44713 |  0:01:30s\n",
      "epoch 36 | loss: 0.45228 |  0:01:33s\n",
      "epoch 37 | loss: 0.45035 |  0:01:35s\n",
      "epoch 38 | loss: 0.45248 |  0:01:38s\n",
      "epoch 39 | loss: 0.44911 |  0:01:40s\n",
      "epoch 40 | loss: 0.45349 |  0:01:43s\n",
      "epoch 41 | loss: 0.45138 |  0:01:45s\n",
      "epoch 42 | loss: 0.44896 |  0:01:48s\n",
      "epoch 43 | loss: 0.44666 |  0:01:50s\n",
      "epoch 44 | loss: 0.45182 |  0:01:53s\n",
      "epoch 45 | loss: 0.44983 |  0:01:55s\n",
      "epoch 46 | loss: 0.45001 |  0:01:58s\n",
      "epoch 47 | loss: 0.44897 |  0:02:00s\n",
      "epoch 48 | loss: 0.44903 |  0:02:03s\n",
      "epoch 49 | loss: 0.44762 |  0:02:06s\n",
      "epoch 50 | loss: 0.44699 |  0:02:08s\n",
      "epoch 51 | loss: 0.44712 |  0:02:11s\n",
      "epoch 52 | loss: 0.44517 |  0:02:13s\n",
      "epoch 53 | loss: 0.45162 |  0:02:16s\n",
      "epoch 54 | loss: 0.44755 |  0:02:18s\n",
      "epoch 55 | loss: 0.44804 |  0:02:21s\n",
      "epoch 56 | loss: 0.45043 |  0:02:23s\n",
      "epoch 57 | loss: 0.44727 |  0:02:26s\n",
      "epoch 58 | loss: 0.44356 |  0:02:28s\n",
      "epoch 59 | loss: 0.44605 |  0:02:31s\n",
      "epoch 60 | loss: 0.44731 |  0:02:33s\n",
      "epoch 61 | loss: 0.44558 |  0:02:36s\n",
      "epoch 62 | loss: 0.44348 |  0:02:38s\n",
      "epoch 63 | loss: 0.44277 |  0:02:41s\n",
      "epoch 64 | loss: 0.44646 |  0:02:44s\n",
      "epoch 65 | loss: 0.447   |  0:02:46s\n",
      "epoch 66 | loss: 0.44474 |  0:02:49s\n",
      "epoch 67 | loss: 0.44387 |  0:02:51s\n",
      "epoch 68 | loss: 0.44642 |  0:02:54s\n",
      "epoch 69 | loss: 0.44597 |  0:02:56s\n",
      "epoch 70 | loss: 0.44476 |  0:02:59s\n",
      "epoch 71 | loss: 0.44473 |  0:03:01s\n",
      "epoch 72 | loss: 0.448   |  0:03:04s\n",
      "epoch 73 | loss: 0.44178 |  0:03:06s\n",
      "epoch 74 | loss: 0.44452 |  0:03:09s\n",
      "epoch 75 | loss: 0.4428  |  0:03:12s\n",
      "epoch 76 | loss: 0.4427  |  0:03:14s\n",
      "epoch 77 | loss: 0.44473 |  0:03:17s\n",
      "epoch 78 | loss: 0.44475 |  0:03:19s\n",
      "epoch 79 | loss: 0.43991 |  0:03:22s\n",
      "epoch 80 | loss: 0.4442  |  0:03:24s\n",
      "epoch 81 | loss: 0.44505 |  0:03:27s\n",
      "epoch 82 | loss: 0.44449 |  0:03:29s\n",
      "epoch 83 | loss: 0.44447 |  0:03:32s\n",
      "epoch 84 | loss: 0.44309 |  0:03:34s\n",
      "epoch 85 | loss: 0.44312 |  0:03:37s\n",
      "epoch 86 | loss: 0.44213 |  0:03:40s\n",
      "epoch 87 | loss: 0.44077 |  0:03:42s\n",
      "epoch 88 | loss: 0.44286 |  0:03:45s\n",
      "epoch 89 | loss: 0.4436  |  0:03:47s\n",
      "epoch 90 | loss: 0.44238 |  0:03:50s\n",
      "epoch 91 | loss: 0.44263 |  0:03:52s\n",
      "epoch 92 | loss: 0.44238 |  0:03:55s\n",
      "epoch 93 | loss: 0.44395 |  0:03:57s\n",
      "epoch 94 | loss: 0.44546 |  0:04:00s\n",
      "epoch 95 | loss: 0.44378 |  0:04:02s\n",
      "epoch 96 | loss: 0.44385 |  0:04:05s\n",
      "epoch 97 | loss: 0.44503 |  0:04:08s\n",
      "epoch 98 | loss: 0.44348 |  0:04:10s\n",
      "epoch 99 | loss: 0.44076 |  0:04:13s\n"
     ]
    },
    {
     "name": "stderr",
     "output_type": "stream",
     "text": [
      "C:\\Users\\varsh\\AppData\\Local\\Programs\\Python\\Python39\\lib\\site-packages\\pytorch_tabnet\\abstract_model.py:82: UserWarning: Device used : cpu\n",
      "  warnings.warn(f\"Device used : {self.device}\")\n",
      "C:\\Users\\varsh\\AppData\\Local\\Programs\\Python\\Python39\\lib\\site-packages\\pytorch_tabnet\\abstract_model.py:687: UserWarning: No early stopping will be performed, last training weights will be used.\n",
      "  warnings.warn(wrn_msg)\n"
     ]
    },
    {
     "name": "stdout",
     "output_type": "stream",
     "text": [
      "epoch 0  | loss: 0.50235 |  0:00:02s\n",
      "epoch 1  | loss: 0.47478 |  0:00:05s\n",
      "epoch 2  | loss: 0.46737 |  0:00:07s\n",
      "epoch 3  | loss: 0.46313 |  0:00:10s\n",
      "epoch 4  | loss: 0.45754 |  0:00:13s\n",
      "epoch 5  | loss: 0.45937 |  0:00:15s\n",
      "epoch 6  | loss: 0.46118 |  0:00:18s\n",
      "epoch 7  | loss: 0.46395 |  0:00:21s\n",
      "epoch 8  | loss: 0.45806 |  0:00:23s\n",
      "epoch 9  | loss: 0.4564  |  0:00:26s\n",
      "epoch 10 | loss: 0.45152 |  0:00:28s\n",
      "epoch 11 | loss: 0.4583  |  0:00:31s\n",
      "epoch 12 | loss: 0.44981 |  0:00:34s\n",
      "epoch 13 | loss: 0.45959 |  0:00:36s\n",
      "epoch 14 | loss: 0.45546 |  0:00:39s\n",
      "epoch 15 | loss: 0.45832 |  0:00:42s\n",
      "epoch 16 | loss: 0.45602 |  0:00:44s\n",
      "epoch 17 | loss: 0.46254 |  0:00:47s\n",
      "epoch 18 | loss: 0.46764 |  0:00:49s\n",
      "epoch 19 | loss: 0.45456 |  0:00:52s\n",
      "epoch 20 | loss: 0.45603 |  0:00:55s\n",
      "epoch 21 | loss: 0.45513 |  0:00:57s\n",
      "epoch 22 | loss: 0.45608 |  0:01:00s\n",
      "epoch 23 | loss: 0.46067 |  0:01:03s\n",
      "epoch 24 | loss: 0.45809 |  0:01:05s\n",
      "epoch 25 | loss: 0.45804 |  0:01:08s\n",
      "epoch 26 | loss: 0.45836 |  0:01:10s\n",
      "epoch 27 | loss: 0.45277 |  0:01:13s\n",
      "epoch 28 | loss: 0.45352 |  0:01:16s\n",
      "epoch 29 | loss: 0.45084 |  0:01:18s\n",
      "epoch 30 | loss: 0.45069 |  0:01:21s\n",
      "epoch 31 | loss: 0.45381 |  0:01:24s\n",
      "epoch 32 | loss: 0.45303 |  0:01:26s\n",
      "epoch 33 | loss: 0.45692 |  0:01:29s\n",
      "epoch 34 | loss: 0.44908 |  0:01:31s\n",
      "epoch 35 | loss: 0.44964 |  0:01:34s\n",
      "epoch 36 | loss: 0.45038 |  0:01:37s\n",
      "epoch 37 | loss: 0.45375 |  0:01:39s\n",
      "epoch 38 | loss: 0.44953 |  0:01:42s\n",
      "epoch 39 | loss: 0.45512 |  0:01:44s\n",
      "epoch 40 | loss: 0.44913 |  0:01:47s\n",
      "epoch 41 | loss: 0.44979 |  0:01:50s\n",
      "epoch 42 | loss: 0.45041 |  0:01:52s\n",
      "epoch 43 | loss: 0.4522  |  0:01:55s\n",
      "epoch 44 | loss: 0.44938 |  0:01:58s\n",
      "epoch 45 | loss: 0.44774 |  0:02:00s\n",
      "epoch 46 | loss: 0.4514  |  0:02:03s\n",
      "epoch 47 | loss: 0.45085 |  0:02:05s\n",
      "epoch 48 | loss: 0.44974 |  0:02:08s\n",
      "epoch 49 | loss: 0.45404 |  0:02:11s\n"
     ]
    },
    {
     "name": "stderr",
     "output_type": "stream",
     "text": [
      "C:\\Users\\varsh\\AppData\\Local\\Programs\\Python\\Python39\\lib\\site-packages\\pytorch_tabnet\\abstract_model.py:82: UserWarning: Device used : cpu\n",
      "  warnings.warn(f\"Device used : {self.device}\")\n",
      "C:\\Users\\varsh\\AppData\\Local\\Programs\\Python\\Python39\\lib\\site-packages\\pytorch_tabnet\\abstract_model.py:687: UserWarning: No early stopping will be performed, last training weights will be used.\n",
      "  warnings.warn(wrn_msg)\n"
     ]
    },
    {
     "name": "stdout",
     "output_type": "stream",
     "text": [
      "epoch 0  | loss: 0.51277 |  0:00:02s\n",
      "epoch 1  | loss: 0.47526 |  0:00:05s\n",
      "epoch 2  | loss: 0.47056 |  0:00:07s\n",
      "epoch 3  | loss: 0.46552 |  0:00:10s\n",
      "epoch 4  | loss: 0.46175 |  0:00:13s\n",
      "epoch 5  | loss: 0.4637  |  0:00:15s\n",
      "epoch 6  | loss: 0.46285 |  0:00:18s\n",
      "epoch 7  | loss: 0.45997 |  0:00:21s\n",
      "epoch 8  | loss: 0.45579 |  0:00:23s\n",
      "epoch 9  | loss: 0.45977 |  0:00:26s\n",
      "epoch 10 | loss: 0.45228 |  0:00:28s\n",
      "epoch 11 | loss: 0.4543  |  0:00:31s\n",
      "epoch 12 | loss: 0.45279 |  0:00:34s\n",
      "epoch 13 | loss: 0.4552  |  0:00:36s\n",
      "epoch 14 | loss: 0.45247 |  0:00:39s\n",
      "epoch 15 | loss: 0.45482 |  0:00:42s\n",
      "epoch 16 | loss: 0.44821 |  0:00:44s\n",
      "epoch 17 | loss: 0.45855 |  0:00:47s\n",
      "epoch 18 | loss: 0.45763 |  0:00:50s\n",
      "epoch 19 | loss: 0.45031 |  0:00:52s\n",
      "epoch 20 | loss: 0.4529  |  0:00:55s\n",
      "epoch 21 | loss: 0.4505  |  0:00:57s\n",
      "epoch 22 | loss: 0.45158 |  0:01:00s\n",
      "epoch 23 | loss: 0.45074 |  0:01:03s\n",
      "epoch 24 | loss: 0.45078 |  0:01:05s\n",
      "epoch 25 | loss: 0.45189 |  0:01:08s\n",
      "epoch 26 | loss: 0.45312 |  0:01:11s\n",
      "epoch 27 | loss: 0.44821 |  0:01:13s\n",
      "epoch 28 | loss: 0.44871 |  0:01:16s\n",
      "epoch 29 | loss: 0.44837 |  0:01:18s\n",
      "epoch 30 | loss: 0.44598 |  0:01:21s\n",
      "epoch 31 | loss: 0.44905 |  0:01:24s\n",
      "epoch 32 | loss: 0.44875 |  0:01:26s\n",
      "epoch 33 | loss: 0.45335 |  0:01:29s\n",
      "epoch 34 | loss: 0.4484  |  0:01:31s\n",
      "epoch 35 | loss: 0.44723 |  0:01:34s\n",
      "epoch 36 | loss: 0.44558 |  0:01:37s\n",
      "epoch 37 | loss: 0.44811 |  0:01:39s\n",
      "epoch 38 | loss: 0.44664 |  0:01:42s\n",
      "epoch 39 | loss: 0.45173 |  0:01:45s\n",
      "epoch 40 | loss: 0.44611 |  0:01:47s\n",
      "epoch 41 | loss: 0.44833 |  0:01:50s\n",
      "epoch 42 | loss: 0.44967 |  0:01:52s\n",
      "epoch 43 | loss: 0.44956 |  0:01:55s\n",
      "epoch 44 | loss: 0.44691 |  0:01:58s\n",
      "epoch 45 | loss: 0.44749 |  0:02:00s\n",
      "epoch 46 | loss: 0.44942 |  0:02:03s\n",
      "epoch 47 | loss: 0.44785 |  0:02:05s\n",
      "epoch 48 | loss: 0.44322 |  0:02:08s\n",
      "epoch 49 | loss: 0.44817 |  0:02:11s\n"
     ]
    },
    {
     "name": "stderr",
     "output_type": "stream",
     "text": [
      "C:\\Users\\varsh\\AppData\\Local\\Programs\\Python\\Python39\\lib\\site-packages\\pytorch_tabnet\\abstract_model.py:82: UserWarning: Device used : cpu\n",
      "  warnings.warn(f\"Device used : {self.device}\")\n",
      "C:\\Users\\varsh\\AppData\\Local\\Programs\\Python\\Python39\\lib\\site-packages\\pytorch_tabnet\\abstract_model.py:687: UserWarning: No early stopping will be performed, last training weights will be used.\n",
      "  warnings.warn(wrn_msg)\n"
     ]
    },
    {
     "name": "stdout",
     "output_type": "stream",
     "text": [
      "epoch 0  | loss: 0.50235 |  0:00:02s\n",
      "epoch 1  | loss: 0.47478 |  0:00:05s\n",
      "epoch 2  | loss: 0.46737 |  0:00:07s\n",
      "epoch 3  | loss: 0.46313 |  0:00:10s\n",
      "epoch 4  | loss: 0.45754 |  0:00:13s\n",
      "epoch 5  | loss: 0.45937 |  0:00:15s\n",
      "epoch 6  | loss: 0.46118 |  0:00:18s\n",
      "epoch 7  | loss: 0.46395 |  0:00:21s\n",
      "epoch 8  | loss: 0.45806 |  0:00:23s\n",
      "epoch 9  | loss: 0.4564  |  0:00:26s\n",
      "epoch 10 | loss: 0.45152 |  0:00:29s\n",
      "epoch 11 | loss: 0.4583  |  0:00:31s\n",
      "epoch 12 | loss: 0.44981 |  0:00:34s\n",
      "epoch 13 | loss: 0.45959 |  0:00:36s\n",
      "epoch 14 | loss: 0.45546 |  0:00:39s\n",
      "epoch 15 | loss: 0.45832 |  0:00:42s\n",
      "epoch 16 | loss: 0.45602 |  0:00:44s\n",
      "epoch 17 | loss: 0.46254 |  0:00:47s\n",
      "epoch 18 | loss: 0.46764 |  0:00:50s\n",
      "epoch 19 | loss: 0.45456 |  0:00:52s\n",
      "epoch 20 | loss: 0.45603 |  0:00:55s\n",
      "epoch 21 | loss: 0.45513 |  0:00:57s\n",
      "epoch 22 | loss: 0.45608 |  0:01:00s\n",
      "epoch 23 | loss: 0.46067 |  0:01:03s\n",
      "epoch 24 | loss: 0.45809 |  0:01:05s\n",
      "epoch 25 | loss: 0.45804 |  0:01:08s\n",
      "epoch 26 | loss: 0.45836 |  0:01:11s\n",
      "epoch 27 | loss: 0.45277 |  0:01:13s\n",
      "epoch 28 | loss: 0.45352 |  0:01:16s\n",
      "epoch 29 | loss: 0.45084 |  0:01:18s\n",
      "epoch 30 | loss: 0.45069 |  0:01:21s\n",
      "epoch 31 | loss: 0.45381 |  0:01:24s\n",
      "epoch 32 | loss: 0.45303 |  0:01:26s\n",
      "epoch 33 | loss: 0.45692 |  0:01:29s\n",
      "epoch 34 | loss: 0.44908 |  0:01:32s\n",
      "epoch 35 | loss: 0.44964 |  0:01:34s\n",
      "epoch 36 | loss: 0.45038 |  0:01:37s\n",
      "epoch 37 | loss: 0.45375 |  0:01:40s\n",
      "epoch 38 | loss: 0.44953 |  0:01:42s\n",
      "epoch 39 | loss: 0.45512 |  0:01:45s\n",
      "epoch 40 | loss: 0.44913 |  0:01:47s\n",
      "epoch 41 | loss: 0.44979 |  0:01:50s\n",
      "epoch 42 | loss: 0.45041 |  0:01:53s\n",
      "epoch 43 | loss: 0.4522  |  0:01:55s\n",
      "epoch 44 | loss: 0.44938 |  0:01:58s\n",
      "epoch 45 | loss: 0.44774 |  0:02:01s\n",
      "epoch 46 | loss: 0.4514  |  0:02:03s\n",
      "epoch 47 | loss: 0.45085 |  0:02:06s\n",
      "epoch 48 | loss: 0.44974 |  0:02:08s\n",
      "epoch 49 | loss: 0.45404 |  0:02:11s\n",
      "epoch 50 | loss: 0.45404 |  0:02:14s\n",
      "epoch 51 | loss: 0.45411 |  0:02:16s\n",
      "epoch 52 | loss: 0.44759 |  0:02:19s\n",
      "epoch 53 | loss: 0.45111 |  0:02:22s\n",
      "epoch 54 | loss: 0.45101 |  0:02:24s\n",
      "epoch 55 | loss: 0.44745 |  0:02:27s\n",
      "epoch 56 | loss: 0.44853 |  0:02:30s\n",
      "epoch 57 | loss: 0.44727 |  0:02:32s\n",
      "epoch 58 | loss: 0.44818 |  0:02:35s\n",
      "epoch 59 | loss: 0.45094 |  0:02:37s\n",
      "epoch 60 | loss: 0.45017 |  0:02:40s\n",
      "epoch 61 | loss: 0.45038 |  0:02:43s\n",
      "epoch 62 | loss: 0.4496  |  0:02:45s\n",
      "epoch 63 | loss: 0.44767 |  0:02:48s\n",
      "epoch 64 | loss: 0.44883 |  0:02:51s\n",
      "epoch 65 | loss: 0.44687 |  0:02:53s\n",
      "epoch 66 | loss: 0.44927 |  0:02:56s\n",
      "epoch 67 | loss: 0.4537  |  0:02:59s\n",
      "epoch 68 | loss: 0.44952 |  0:03:01s\n",
      "epoch 69 | loss: 0.45213 |  0:03:04s\n",
      "epoch 70 | loss: 0.44915 |  0:03:07s\n",
      "epoch 71 | loss: 0.45193 |  0:03:09s\n",
      "epoch 72 | loss: 0.4479  |  0:03:12s\n",
      "epoch 73 | loss: 0.44876 |  0:03:15s\n",
      "epoch 74 | loss: 0.44998 |  0:03:17s\n",
      "epoch 75 | loss: 0.44917 |  0:03:20s\n",
      "epoch 76 | loss: 0.44568 |  0:03:22s\n",
      "epoch 77 | loss: 0.44711 |  0:03:25s\n",
      "epoch 78 | loss: 0.44606 |  0:03:28s\n",
      "epoch 79 | loss: 0.44716 |  0:03:30s\n",
      "epoch 80 | loss: 0.44859 |  0:03:33s\n",
      "epoch 81 | loss: 0.4481  |  0:03:36s\n",
      "epoch 82 | loss: 0.44844 |  0:03:38s\n",
      "epoch 83 | loss: 0.44469 |  0:03:41s\n",
      "epoch 84 | loss: 0.44504 |  0:03:44s\n",
      "epoch 85 | loss: 0.45056 |  0:03:46s\n",
      "epoch 86 | loss: 0.44983 |  0:03:49s\n",
      "epoch 87 | loss: 0.44406 |  0:03:51s\n",
      "epoch 88 | loss: 0.44691 |  0:03:54s\n",
      "epoch 89 | loss: 0.44729 |  0:03:57s\n",
      "epoch 90 | loss: 0.45216 |  0:03:59s\n",
      "epoch 91 | loss: 0.44672 |  0:04:02s\n",
      "epoch 92 | loss: 0.44468 |  0:04:05s\n",
      "epoch 93 | loss: 0.4469  |  0:04:07s\n",
      "epoch 94 | loss: 0.44429 |  0:04:10s\n",
      "epoch 95 | loss: 0.44395 |  0:04:12s\n",
      "epoch 96 | loss: 0.44594 |  0:04:15s\n",
      "epoch 97 | loss: 0.44279 |  0:04:18s\n",
      "epoch 98 | loss: 0.4421  |  0:04:20s\n",
      "epoch 99 | loss: 0.44674 |  0:04:23s\n"
     ]
    },
    {
     "name": "stderr",
     "output_type": "stream",
     "text": [
      "C:\\Users\\varsh\\AppData\\Local\\Programs\\Python\\Python39\\lib\\site-packages\\pytorch_tabnet\\abstract_model.py:82: UserWarning: Device used : cpu\n",
      "  warnings.warn(f\"Device used : {self.device}\")\n",
      "C:\\Users\\varsh\\AppData\\Local\\Programs\\Python\\Python39\\lib\\site-packages\\pytorch_tabnet\\abstract_model.py:687: UserWarning: No early stopping will be performed, last training weights will be used.\n",
      "  warnings.warn(wrn_msg)\n"
     ]
    },
    {
     "name": "stdout",
     "output_type": "stream",
     "text": [
      "epoch 0  | loss: 0.51277 |  0:00:02s\n",
      "epoch 1  | loss: 0.47526 |  0:00:05s\n",
      "epoch 2  | loss: 0.47056 |  0:00:07s\n",
      "epoch 3  | loss: 0.46552 |  0:00:10s\n",
      "epoch 4  | loss: 0.46175 |  0:00:13s\n",
      "epoch 5  | loss: 0.4637  |  0:00:15s\n",
      "epoch 6  | loss: 0.46285 |  0:00:18s\n",
      "epoch 7  | loss: 0.45997 |  0:00:21s\n",
      "epoch 8  | loss: 0.45579 |  0:00:23s\n",
      "epoch 9  | loss: 0.45977 |  0:00:26s\n",
      "epoch 10 | loss: 0.45228 |  0:00:29s\n",
      "epoch 11 | loss: 0.4543  |  0:00:31s\n",
      "epoch 12 | loss: 0.45279 |  0:00:34s\n",
      "epoch 13 | loss: 0.4552  |  0:00:37s\n",
      "epoch 14 | loss: 0.45247 |  0:00:39s\n",
      "epoch 15 | loss: 0.45482 |  0:00:42s\n",
      "epoch 16 | loss: 0.44821 |  0:00:45s\n",
      "epoch 17 | loss: 0.45855 |  0:00:47s\n",
      "epoch 18 | loss: 0.45763 |  0:00:50s\n",
      "epoch 19 | loss: 0.45031 |  0:00:52s\n",
      "epoch 20 | loss: 0.4529  |  0:00:55s\n",
      "epoch 21 | loss: 0.4505  |  0:00:58s\n",
      "epoch 22 | loss: 0.45158 |  0:01:00s\n",
      "epoch 23 | loss: 0.45074 |  0:01:03s\n",
      "epoch 24 | loss: 0.45078 |  0:01:06s\n",
      "epoch 25 | loss: 0.45189 |  0:01:08s\n",
      "epoch 26 | loss: 0.45312 |  0:01:11s\n",
      "epoch 27 | loss: 0.44821 |  0:01:14s\n",
      "epoch 28 | loss: 0.44871 |  0:01:16s\n",
      "epoch 29 | loss: 0.44837 |  0:01:19s\n",
      "epoch 30 | loss: 0.44598 |  0:01:21s\n",
      "epoch 31 | loss: 0.44905 |  0:01:24s\n",
      "epoch 32 | loss: 0.44875 |  0:01:27s\n",
      "epoch 33 | loss: 0.45335 |  0:01:29s\n",
      "epoch 34 | loss: 0.4484  |  0:01:32s\n",
      "epoch 35 | loss: 0.44723 |  0:01:35s\n",
      "epoch 36 | loss: 0.44558 |  0:01:37s\n",
      "epoch 37 | loss: 0.44811 |  0:01:40s\n",
      "epoch 38 | loss: 0.44664 |  0:01:42s\n",
      "epoch 39 | loss: 0.45173 |  0:01:45s\n",
      "epoch 40 | loss: 0.44611 |  0:01:48s\n",
      "epoch 41 | loss: 0.44833 |  0:01:50s\n",
      "epoch 42 | loss: 0.44967 |  0:01:53s\n",
      "epoch 43 | loss: 0.44956 |  0:01:56s\n",
      "epoch 44 | loss: 0.44691 |  0:01:58s\n",
      "epoch 45 | loss: 0.44749 |  0:02:01s\n",
      "epoch 46 | loss: 0.44942 |  0:02:04s\n",
      "epoch 47 | loss: 0.44785 |  0:02:06s\n",
      "epoch 48 | loss: 0.44322 |  0:02:09s\n",
      "epoch 49 | loss: 0.44817 |  0:02:12s\n",
      "epoch 50 | loss: 0.44816 |  0:02:14s\n",
      "epoch 51 | loss: 0.44571 |  0:02:17s\n",
      "epoch 52 | loss: 0.44386 |  0:02:19s\n",
      "epoch 53 | loss: 0.44512 |  0:02:22s\n",
      "epoch 54 | loss: 0.44377 |  0:02:25s\n",
      "epoch 55 | loss: 0.44703 |  0:02:27s\n",
      "epoch 56 | loss: 0.44136 |  0:02:30s\n",
      "epoch 57 | loss: 0.44165 |  0:02:33s\n",
      "epoch 58 | loss: 0.44225 |  0:02:35s\n",
      "epoch 59 | loss: 0.44732 |  0:02:38s\n",
      "epoch 60 | loss: 0.44646 |  0:02:41s\n",
      "epoch 61 | loss: 0.44376 |  0:02:43s\n",
      "epoch 62 | loss: 0.44236 |  0:02:46s\n",
      "epoch 63 | loss: 0.44524 |  0:02:49s\n",
      "epoch 64 | loss: 0.44446 |  0:02:51s\n",
      "epoch 65 | loss: 0.44401 |  0:02:54s\n",
      "epoch 66 | loss: 0.44372 |  0:02:56s\n",
      "epoch 67 | loss: 0.44187 |  0:02:59s\n",
      "epoch 68 | loss: 0.44124 |  0:03:02s\n",
      "epoch 69 | loss: 0.44263 |  0:03:04s\n",
      "epoch 70 | loss: 0.44133 |  0:03:07s\n",
      "epoch 71 | loss: 0.44347 |  0:03:10s\n",
      "epoch 72 | loss: 0.44056 |  0:03:12s\n",
      "epoch 73 | loss: 0.441   |  0:03:15s\n",
      "epoch 74 | loss: 0.44321 |  0:03:18s\n",
      "epoch 75 | loss: 0.4415  |  0:03:20s\n",
      "epoch 76 | loss: 0.44146 |  0:03:23s\n",
      "epoch 77 | loss: 0.44049 |  0:03:26s\n",
      "epoch 78 | loss: 0.44274 |  0:03:28s\n",
      "epoch 79 | loss: 0.44232 |  0:03:31s\n",
      "epoch 80 | loss: 0.44334 |  0:03:34s\n",
      "epoch 81 | loss: 0.44297 |  0:03:36s\n",
      "epoch 82 | loss: 0.44163 |  0:03:39s\n",
      "epoch 83 | loss: 0.44121 |  0:03:41s\n",
      "epoch 84 | loss: 0.44138 |  0:03:44s\n",
      "epoch 85 | loss: 0.44228 |  0:03:47s\n",
      "epoch 86 | loss: 0.4443  |  0:03:49s\n",
      "epoch 87 | loss: 0.44093 |  0:03:52s\n",
      "epoch 88 | loss: 0.44006 |  0:03:55s\n",
      "epoch 89 | loss: 0.44201 |  0:03:57s\n",
      "epoch 90 | loss: 0.44208 |  0:04:00s\n",
      "epoch 91 | loss: 0.44232 |  0:04:03s\n",
      "epoch 92 | loss: 0.43982 |  0:04:05s\n",
      "epoch 93 | loss: 0.44197 |  0:04:08s\n",
      "epoch 94 | loss: 0.44023 |  0:04:11s\n",
      "epoch 95 | loss: 0.43968 |  0:04:13s\n",
      "epoch 96 | loss: 0.44121 |  0:04:16s\n",
      "epoch 97 | loss: 0.43983 |  0:04:19s\n",
      "epoch 98 | loss: 0.43932 |  0:04:21s\n",
      "epoch 99 | loss: 0.44299 |  0:04:24s\n"
     ]
    }
   ],
   "source": [
    "for n_d_n_a in n_d_n_a_grid:\n",
    "    for max_epochs in max_epochs_grid:\n",
    "        for learning_rate in learning_rate_grid:\n",
    "            # Initialize TabNet model with current hyperparameters\n",
    "            model = TabNetClassifier(n_d=n_d_n_a, n_a=n_d_n_a,\n",
    "                                     optimizer_fn=torch.optim.Adam,\n",
    "                                     optimizer_params={'lr': learning_rate},\n",
    "                                     scheduler_params={\"step_size\":50, \"gamma\":0.9},\n",
    "                                     scheduler_fn=torch.optim.lr_scheduler.StepLR,\n",
    "                                     mask_type='entmax')  # 'entmax' for sparse attention\n",
    "\n",
    "            # Fit model on training data\n",
    "            model.fit(\n",
    "                X_train_np, y_train_np,\n",
    "                max_epochs=max_epochs,\n",
    "                patience=10,\n",
    "                batch_size=32,\n",
    "                virtual_batch_size=16,\n",
    "                num_workers=0,\n",
    "                drop_last=False\n",
    "            )\n",
    "\n",
    "            # Predict on test set\n",
    "            y_pred = model.predict(X_test_np)\n",
    "\n",
    "            # Evaluate model performance\n",
    "            accuracy = accuracy_score(y_test, y_pred)\n",
    "            precision = precision_score(y_test, y_pred, average='weighted')\n",
    "            recall = recall_score(y_test, y_pred, average='weighted')\n",
    "            f1 = f1_score(y_test, y_pred, average='weighted')\n",
    "            auc_roc = roc_auc_score(y_test, y_pred)\n",
    "\n",
    "            # Store results in DataFrame\n",
    "            results = pd.DataFrame({\n",
    "                'Model': ['TabNet'],\n",
    "                'Parameters': [f\"n_d_n_a={n_d_n_a}, epochs={max_epochs}, lr={learning_rate}\"],\n",
    "                'Accuracy': [accuracy],\n",
    "                'Precision': [precision],\n",
    "                'Recall': [recall],\n",
    "                'F1-Score': [f1],\n",
    "                'AUC-ROC': [auc_roc]\n",
    "            })\n",
    "\n",
    "            # Append results to results DataFrame\n",
    "            results_df = pd.concat([results_df, results], ignore_index=True)"
   ],
   "metadata": {
    "collapsed": false,
    "ExecuteTime": {
     "end_time": "2024-05-05T18:05:33.676359800Z",
     "start_time": "2024-05-05T17:26:58.406175700Z"
    }
   },
   "id": "4ec523d759a32b8d"
  },
  {
   "cell_type": "code",
   "execution_count": 23,
   "outputs": [],
   "source": [
    "results_df = pd.concat([results_df, results_df], ignore_index=True)"
   ],
   "metadata": {
    "collapsed": false,
    "ExecuteTime": {
     "end_time": "2024-05-05T18:05:33.693742100Z",
     "start_time": "2024-05-05T18:05:33.680703300Z"
    }
   },
   "id": "440f010731538372"
  },
  {
   "cell_type": "code",
   "execution_count": 24,
   "outputs": [],
   "source": [
    "results_df.to_csv('xgboost_hyperparameter_tuning_results.csv', index=False)\n",
    "#print(\"Hyperparameter tuning for xgboost is complete, results are saved to the CSV file.\")"
   ],
   "metadata": {
    "collapsed": false,
    "ExecuteTime": {
     "end_time": "2024-05-05T18:05:33.723345600Z",
     "start_time": "2024-05-05T18:05:33.691736400Z"
    }
   },
   "id": "d7caac0d52b90a3b"
  },
  {
   "cell_type": "code",
   "execution_count": 65,
   "outputs": [],
   "source": [
    "n_estimators_grid = [100, 200, 300]\n",
    "max_depth_grid = [None, 10, 20]  # None means no limit\n",
    "min_samples_split_grid = [2, 5, 10]"
   ],
   "metadata": {
    "collapsed": false,
    "ExecuteTime": {
     "end_time": "2024-05-05T19:41:29.839389Z",
     "start_time": "2024-05-05T19:41:29.822755400Z"
    }
   },
   "id": "64755d709229f2d1"
  },
  {
   "cell_type": "code",
   "execution_count": 66,
   "outputs": [],
   "source": [
    "for n_estimators in n_estimators_grid:\n",
    "    for max_depth in max_depth_grid:\n",
    "        for min_samples_split in min_samples_split_grid:\n",
    "            # Initialize Random Forest model with current hyperparameters\n",
    "            model = RandomForestClassifier(\n",
    "                n_estimators=n_estimators,\n",
    "                max_depth=max_depth,\n",
    "                min_samples_split=min_samples_split,\n",
    "                random_state=42\n",
    "            )\n",
    "\n",
    "            # Fit model on training data\n",
    "            model.fit(X_train, y_train)\n",
    "\n",
    "            # Predict on test set\n",
    "            y_pred = model.predict(X_test)\n",
    "            \n",
    "            # Evaluate model performance\n",
    "            accuracy = accuracy_score(y_test, y_pred)\n",
    "            precision = precision_score(y_test, y_pred, average='weighted')\n",
    "            recall = recall_score(y_test, y_pred, average='weighted')\n",
    "            f1 = f1_score(y_test, y_pred, average='weighted')\n",
    "            auc_roc = roc_auc_score(y_test, y_pred)\n",
    "\n",
    "            # Store results in DataFrame\n",
    "            results = pd.DataFrame({\n",
    "                'Model': ['Random Forest'],\n",
    "                'Parameters': [f\"n_estimators={n_estimators}, max_depth={max_depth}, min_samples_split={min_samples_split}\"],\n",
    "                'Accuracy': [accuracy],\n",
    "                'Precision': [precision],\n",
    "                'Recall': [recall],\n",
    "                'F1-Score': [f1],\n",
    "                'AUC-ROC': [auc_roc]\n",
    "            })\n",
    "\n",
    "            # Append results to results DataFrame\n",
    "            results_df = pd.concat([results_df, results], ignore_index=True)\n"
   ],
   "metadata": {
    "collapsed": false,
    "ExecuteTime": {
     "end_time": "2024-05-05T19:41:51.137511400Z",
     "start_time": "2024-05-05T19:41:30.229669400Z"
    }
   },
   "id": "5c3edc197c8bee66"
  },
  {
   "cell_type": "code",
   "execution_count": 67,
   "outputs": [],
   "source": [
    "results_df.to_csv('random_forest_hyperparameter_tuning_results.csv', index=False)"
   ],
   "metadata": {
    "collapsed": false,
    "ExecuteTime": {
     "end_time": "2024-05-05T19:41:54.977616100Z",
     "start_time": "2024-05-05T19:41:54.945901100Z"
    }
   },
   "id": "71de98d795fcdd46"
  },
  {
   "cell_type": "code",
   "execution_count": null,
   "outputs": [],
   "source": [],
   "metadata": {
    "collapsed": false
   },
   "id": "ce20bae3e9ad9a35"
  }
 ],
 "metadata": {
  "kernelspec": {
   "display_name": "Python 3",
   "language": "python",
   "name": "python3"
  },
  "language_info": {
   "codemirror_mode": {
    "name": "ipython",
    "version": 2
   },
   "file_extension": ".py",
   "mimetype": "text/x-python",
   "name": "python",
   "nbconvert_exporter": "python",
   "pygments_lexer": "ipython2",
   "version": "2.7.6"
  }
 },
 "nbformat": 4,
 "nbformat_minor": 5
}
